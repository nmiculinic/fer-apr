{
 "cells": [
  {
   "cell_type": "code",
   "execution_count": 54,
   "metadata": {
    "ExecuteTime": {
     "end_time": "2016-11-09T22:34:59.633533",
     "start_time": "2016-11-09T22:34:59.618067"
    },
    "collapsed": false,
    "run_control": {
     "frozen": false,
     "read_only": false
    }
   },
   "outputs": [],
   "source": [
    "from __future__ import division\n",
    "import numpy as np\n",
    "from sympy import *\n",
    "from sympy.utilities import lambdify\n",
    "init_printing()\n",
    "from sympy import  Matrix\n",
    "from sympy.abc import x, y\n",
    "from lab2 import Call_counter, unimodalni, gss"
   ]
  },
  {
   "cell_type": "code",
   "execution_count": 226,
   "metadata": {
    "ExecuteTime": {
     "end_time": "2016-11-09T23:01:26.488805",
     "start_time": "2016-11-09T23:01:26.392095"
    },
    "collapsed": false,
    "run_control": {
     "frozen": false,
     "read_only": false
    }
   },
   "outputs": [
    {
     "data": {
      "text/plain": [
       "(5, array([1, 4]), array([[0, 0],\n",
       "        [0, 2]]), '1...1...1')"
      ]
     },
     "execution_count": 226,
     "metadata": {},
     "output_type": "execute_result"
    }
   ],
   "source": [
    "class Function():\n",
    "    def __init__(self, func, vv):\n",
    "        self.f = lambdify([vv], func)\n",
    "        self._grad = lambdify([[x, y]], Matrix([func]).jacobian((x, y)), 'numpy')\n",
    "        self._hess = lambdify([vv], hessian(func, vv))\n",
    "        self.resetCounter()\n",
    "        \n",
    "    def resetCounter(self):\n",
    "        self.cf = 0\n",
    "        self.cg = 0\n",
    "        self.ch = 0\n",
    "        \n",
    "    def __call__(self, x):\n",
    "        self.cf += 1\n",
    "        return self.f(x)\n",
    "\n",
    "    def grad(self, x):\n",
    "        self.cg += 1\n",
    "        return self._grad(x).reshape(-1)\n",
    "    \n",
    "    def hess(self, x):\n",
    "        self.ch += 1\n",
    "        return self._hess(x)\n",
    "    \n",
    "    def summary(self):\n",
    "        return \"...\".join(map(str, [self.cf, self.cg, self.ch]))\n",
    "    \n",
    "    \n",
    "f = Function(x + y**2, [x, y])\n",
    "f([1,2]), f.grad([1,2]),f.hess([1,2]), f.summary()"
   ]
  },
  {
   "cell_type": "code",
   "execution_count": 227,
   "metadata": {
    "ExecuteTime": {
     "end_time": "2016-11-09T23:01:26.627130",
     "start_time": "2016-11-09T23:01:26.593180"
    },
    "collapsed": false,
    "run_control": {
     "frozen": false,
     "read_only": false
    }
   },
   "outputs": [],
   "source": [
    "f1 = Function(100 * (y - x**2)**2 + (1-x)**2, [x, y])\n",
    "f1_0 = np.array([-1.9, 2])"
   ]
  },
  {
   "cell_type": "code",
   "execution_count": 228,
   "metadata": {
    "ExecuteTime": {
     "end_time": "2016-11-09T23:01:26.881484",
     "start_time": "2016-11-09T23:01:26.862802"
    },
    "collapsed": false
   },
   "outputs": [],
   "source": [
    "f2 = Function((x - 4)**2 + 4 *(y - 2)**2, [x, y])\n",
    "f2_0 = np.array([0.1, 0.3])"
   ]
  },
  {
   "cell_type": "code",
   "execution_count": 229,
   "metadata": {
    "ExecuteTime": {
     "end_time": "2016-11-09T23:01:27.046281",
     "start_time": "2016-11-09T23:01:27.010474"
    },
    "collapsed": true
   },
   "outputs": [],
   "source": [
    "f3 = Function((x - 2)**2 + (y + 3)**2, [x, y])\n",
    "f3_0 = np.array([.0, .0])"
   ]
  },
  {
   "cell_type": "code",
   "execution_count": 230,
   "metadata": {
    "ExecuteTime": {
     "end_time": "2016-11-09T23:01:27.151057",
     "start_time": "2016-11-09T23:01:27.134178"
    },
    "collapsed": true
   },
   "outputs": [],
   "source": [
    "f4 = Function((x-3)**2 + y**2, [x,y])\n",
    "f4_0 = np.array([.0, .0])"
   ]
  },
  {
   "cell_type": "code",
   "execution_count": 231,
   "metadata": {
    "ExecuteTime": {
     "end_time": "2016-11-09T23:01:32.055621",
     "start_time": "2016-11-09T23:01:27.940415"
    },
    "collapsed": false,
    "run_control": {
     "frozen": false,
     "read_only": false
    }
   },
   "outputs": [
    {
     "name": "stdout",
     "output_type": "stream",
     "text": [
      "max iter reached!!\n"
     ]
    },
    {
     "data": {
      "text/plain": [
       "'108401...2002...0'"
      ]
     },
     "execution_count": 231,
     "metadata": {},
     "output_type": "execute_result"
    }
   ],
   "source": [
    "def gradDescent(f, x_0, eps=1e-6, line=False, trace=False, maxIter=1000):\n",
    "    x = np.copy(x_0)\n",
    "    grad = f.grad(x)\n",
    "    it = 0\n",
    "    while np.linalg.norm(grad) > eps:\n",
    "        if it > maxIter:\n",
    "            print(\"max iter reached!!\")\n",
    "            return x\n",
    "        it += 1\n",
    "        if line:\n",
    "            def opt_f(l):\n",
    "                return f(x - l*grad)\n",
    "            \n",
    "            l, r = unimodalni(opt_f, 0.1, 1)\n",
    "            l = gss(opt_f, l, r, eps)\n",
    "\n",
    "            x -= l*grad\n",
    "        else:\n",
    "            x -= grad\n",
    "        grad = f.grad(x)\n",
    "        if trace:\n",
    "            print(x, f(x), f.grad(x))\n",
    "    return x\n",
    "\n",
    "f1.resetCounter()\n",
    "gradDescent(f1, f1_0, line=True, trace=False, maxIter=2000)\n",
    "f1.summary()"
   ]
  },
  {
   "cell_type": "code",
   "execution_count": 232,
   "metadata": {
    "ExecuteTime": {
     "end_time": "2016-11-09T23:01:32.135472",
     "start_time": "2016-11-09T23:01:32.060518"
    },
    "collapsed": false
   },
   "outputs": [
    {
     "data": {
      "text/plain": [
       "array([ 3.99999962,  2.00000001])"
      ]
     },
     "execution_count": 232,
     "metadata": {},
     "output_type": "execute_result"
    }
   ],
   "source": [
    "def adam(f, x_0, eta = 0.1, eps=1e-6, beta1=0.9, beta2=0.999, maxIter=1000):\n",
    "    v = np.zeros_like(x_0)\n",
    "    m = np.zeros_like(x_0)\n",
    "\n",
    "    x = np.copy(x_0)\n",
    "    grad = np.ones_like(x_0)\n",
    "    it = 0\n",
    "    while np.linalg.norm(grad) > eps:\n",
    "        if it > maxIter:\n",
    "            print(\"max iter reached!!\")\n",
    "            return x\n",
    "        it += 1\n",
    "        grad = f.grad(x)\n",
    "\n",
    "        m = beta1*m + (1 - beta1)*grad\n",
    "        v = beta2*v + (1 - beta2)*np.square(grad)\n",
    "        m_est = m/(1 - np.power(beta1, it))\n",
    "        v_est = v/(1 - np.power(beta2, it))\n",
    "        \n",
    "        x -= eta*m/(np.sqrt(v_est) + eps)\n",
    "    return x\n",
    "\n",
    "adam(f2, f2_0)"
   ]
  },
  {
   "cell_type": "code",
   "execution_count": 281,
   "metadata": {
    "ExecuteTime": {
     "end_time": "2016-11-09T23:15:02.962905",
     "start_time": "2016-11-09T23:15:02.924123"
    },
    "collapsed": false
   },
   "outputs": [
    {
     "name": "stdout",
     "output_type": "stream",
     "text": [
      "68\n"
     ]
    },
    {
     "data": {
      "text/plain": [
       "array([ 3.99999997,  2.        ])"
      ]
     },
     "execution_count": 281,
     "metadata": {},
     "output_type": "execute_result"
    }
   ],
   "source": [
    "def nesterov(f, x_0, eta=0.13, mu=0.9, eps=1e-6, maxIter=1000):\n",
    "    m = np.zeros_like(x_0)\n",
    "\n",
    "    x = np.copy(x_0)\n",
    "    grad = np.ones_like(x_0)\n",
    "    it = 0\n",
    "    while np.linalg.norm(grad) > eps:\n",
    "        if it > maxIter:\n",
    "            print(\"max iter reached!!\")\n",
    "            return x\n",
    "        it += 1\n",
    "        grad = f.grad(x - mu*eta*m)\n",
    "        m = mu*m + grad\n",
    "        x -= eta*m\n",
    "    print(it)\n",
    "    return x    \n",
    "\n",
    "nesterov(f2, f2_0)"
   ]
  },
  {
   "cell_type": "code",
   "execution_count": 233,
   "metadata": {
    "ExecuteTime": {
     "end_time": "2016-11-09T23:01:32.217690",
     "start_time": "2016-11-09T23:01:32.138915"
    },
    "collapsed": false
   },
   "outputs": [
    {
     "name": "stdout",
     "output_type": "stream",
     "text": [
      "[-1.89102167  3.57588235] 8.35800695677 [-5.84301773 -0.01612208]\n",
      "[ 0.95413025 -7.18452491] 6552.72560477 [ 3089.33980188 -1618.97788753]\n",
      "[ 0.95415856  0.91041856] 0.00210143749102 [ -9.16825712e-02  -1.60348492e-07]\n",
      "[ 0.99999999  0.99789855] 0.000441603669625 [ 0.84057471 -0.42028736]\n",
      "[ 1.  1.] 4.7313038648e-18 [ -4.35040093e-09   5.68434189e-14]\n",
      "[ 1.  1.] 1.55849332588e-28 [  1.95399252e-14  -2.84217094e-14]\n"
     ]
    },
    {
     "data": {
      "text/plain": [
       "array([ 1.,  1.])"
      ]
     },
     "execution_count": 233,
     "metadata": {},
     "output_type": "execute_result"
    }
   ],
   "source": [
    "def nr(f, x_0, eps=1e-6, line=False, trace=False, maxIter=1000):\n",
    "    x = np.copy(x_0)\n",
    "    grad = np.ones_like(x_0)\n",
    "    it = 0\n",
    "    while np.linalg.norm(grad) > eps:\n",
    "        grad = np.dot(np.linalg.inv(f.hess(x)), f.grad(x).reshape(-1,1)).ravel()\n",
    "        if it > maxIter:\n",
    "            print(\"max iter reached!!\")\n",
    "            return x\n",
    "        it += 1\n",
    "        if line:\n",
    "            def opt_f(l):\n",
    "                return f(x - l*grad)\n",
    "            \n",
    "            l, r = unimodalni(opt_f, 0.1, 1)\n",
    "            l = gss(opt_f, l, r, eps)\n",
    "\n",
    "            x -= l*grad\n",
    "        else:\n",
    "            x -= grad\n",
    "        if trace:\n",
    "            print(x, f(x), f.grad(x))\n",
    "    return x\n",
    "\n",
    "nr(f1, f1_0, trace=True)"
   ]
  },
  {
   "cell_type": "markdown",
   "metadata": {},
   "source": [
    "# 1\n",
    "Primijenite postupak gradijentnog spusta na funkciju 3, uz i bez određivanja optimalnog iznosa\n",
    "koraka. Što možete zaključiti iz rezultata?"
   ]
  },
  {
   "cell_type": "code",
   "execution_count": 311,
   "metadata": {
    "ExecuteTime": {
     "end_time": "2016-11-09T23:20:31.605507",
     "start_time": "2016-11-09T23:20:31.513476"
    },
    "collapsed": false
   },
   "outputs": [
    {
     "name": "stdout",
     "output_type": "stream",
     "text": [
      "max iter reached!!\n"
     ]
    },
    {
     "data": {
      "text/plain": [
       "array([ 4., -6.])"
      ]
     },
     "execution_count": 311,
     "metadata": {},
     "output_type": "execute_result"
    }
   ],
   "source": [
    "gradDescent(f3, f3_0)  # Bez line search... prevelik eta"
   ]
  },
  {
   "cell_type": "code",
   "execution_count": 312,
   "metadata": {
    "ExecuteTime": {
     "end_time": "2016-11-09T23:20:33.939402",
     "start_time": "2016-11-09T23:20:33.923475"
    },
    "collapsed": false
   },
   "outputs": [
    {
     "data": {
      "text/plain": [
       "array([ 2., -3.])"
      ]
     },
     "execution_count": 312,
     "metadata": {},
     "output_type": "execute_result"
    }
   ],
   "source": [
    "gradDescent(f3, f3_0, line=True, maxIter=100)"
   ]
  },
  {
   "cell_type": "markdown",
   "metadata": {},
   "source": [
    "# 2 \n",
    "\n",
    "Primijenite postupak gradijentnog spusta i Newton-Raphsonov postupak na funkcije 1 i 2 s\n",
    "određivanjem optimalnog iznosa koraka. Kako se Newton-Raphsonov postupak ponaša na ovim\n",
    "funkcijama? Ispišite broj izračuna funkcije, gradijenta i Hesseove matrice. "
   ]
  },
  {
   "cell_type": "code",
   "execution_count": 282,
   "metadata": {
    "ExecuteTime": {
     "end_time": "2016-11-09T23:15:17.777862",
     "start_time": "2016-11-09T23:15:17.642585"
    },
    "collapsed": false
   },
   "outputs": [
    {
     "name": "stdout",
     "output_type": "stream",
     "text": [
      "[ 3.99999965  2.00000005]\n",
      "grad 1311...28...0\n",
      "[ 4.  2.]\n",
      "nr 0...2...2\n",
      "[ 3.99999962  2.00000001]\n",
      "adam 0...317...0\n",
      "68\n",
      "[ 3.99999997  2.        ]\n",
      "nesterov 0...68...0\n"
     ]
    }
   ],
   "source": [
    "f2.resetCounter()\n",
    "print(gradDescent(f2, f2_0, line=True))\n",
    "print(\"grad\", f2.summary())\n",
    "\n",
    "f2.resetCounter()\n",
    "print(nr(f2, f2_0))\n",
    "print(\"nr\", f2.summary())\n",
    "\n",
    "f2.resetCounter()\n",
    "print(adam(f2, f2_0))\n",
    "print(\"adam\", f2.summary())\n",
    "\n",
    "f2.resetCounter()\n",
    "print(nesterov(f2, f2_0))\n",
    "print(\"nesterov\", f2.summary())"
   ]
  },
  {
   "cell_type": "code",
   "execution_count": 283,
   "metadata": {
    "ExecuteTime": {
     "end_time": "2016-11-09T23:15:41.890847",
     "start_time": "2016-11-09T23:15:31.843645"
    },
    "collapsed": false
   },
   "outputs": [
    {
     "name": "stdout",
     "output_type": "stream",
     "text": [
      "max iter reached!!\n",
      "[ 1.00731734  1.01472246]\n",
      "grad 274911...5002...0\n",
      "[ 1.  1.]\n",
      "nr 0...6...6\n",
      "[ 1.00000096  1.00000192]\n",
      "adam 0...727...0\n",
      "7\n",
      "[ nan  nan]\n",
      "nesterov 0...7...0\n"
     ]
    },
    {
     "name": "stderr",
     "output_type": "stream",
     "text": [
      "/usr/lib/python3.5/site-packages/numpy/__init__.py:1: RuntimeWarning: overflow encountered in double_scalars\n",
      "  \"\"\"\n",
      "/usr/lib/python3.5/site-packages/numpy/__init__.py:1: RuntimeWarning: invalid value encountered in double_scalars\n",
      "  \"\"\"\n"
     ]
    }
   ],
   "source": [
    "f1.resetCounter()\n",
    "print(gradDescent(f1, f1_0, line=True, maxIter=5000))\n",
    "print(\"grad\", f1.summary())\n",
    "\n",
    "f1.resetCounter()\n",
    "print(nr(f1, f1_0))\n",
    "print(\"nr\", f1.summary())\n",
    "\n",
    "f1.resetCounter()\n",
    "print(adam(f1, f1_0, eta=2, maxIter=5000))\n",
    "print(\"adam\", f1.summary())\n"
   ]
  },
  {
   "cell_type": "code",
   "execution_count": 303,
   "metadata": {
    "ExecuteTime": {
     "end_time": "2016-11-09T23:18:01.736143",
     "start_time": "2016-11-09T23:18:01.303952"
    },
    "collapsed": false
   },
   "outputs": [
    {
     "name": "stdout",
     "output_type": "stream",
     "text": [
      "6185\n",
      "[ 0.99999888  0.99999776]\n",
      "nesterov 0...6185...0\n"
     ]
    }
   ],
   "source": [
    "f1.resetCounter()\n",
    "print(nesterov(f1, f1_0, eta=0.0005, maxIter=1e4))\n",
    "print(\"nesterov\", f1.summary())"
   ]
  }
 ],
 "metadata": {
  "kernelspec": {
   "display_name": "Python 3",
   "language": "python",
   "name": "python3"
  },
  "language_info": {
   "codemirror_mode": {
    "name": "ipython",
    "version": 3
   },
   "file_extension": ".py",
   "mimetype": "text/x-python",
   "name": "python",
   "nbconvert_exporter": "python",
   "pygments_lexer": "ipython3",
   "version": "3.5.2"
  }
 },
 "nbformat": 4,
 "nbformat_minor": 1
}
