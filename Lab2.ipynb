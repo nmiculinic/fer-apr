{
 "cells": [
  {
   "cell_type": "code",
   "execution_count": 1,
   "metadata": {
    "ExecuteTime": {
     "end_time": "2016-11-08T16:45:15.507935",
     "start_time": "2016-11-08T16:45:14.556705"
    },
    "collapsed": false,
    "run_control": {
     "frozen": false,
     "read_only": false
    }
   },
   "outputs": [],
   "source": [
    "%load_ext autoreload\n",
    "%autoreload 1\n",
    "import numpy as np\n",
    "import matplotlib.pyplot as plt\n",
    "%matplotlib inline\n",
    "import seaborn as sns\n",
    "import pandas as pd"
   ]
  },
  {
   "cell_type": "code",
   "execution_count": 2,
   "metadata": {
    "ExecuteTime": {
     "end_time": "2016-11-08T16:45:15.515245",
     "start_time": "2016-11-08T16:45:15.510641"
    },
    "collapsed": false,
    "run_control": {
     "frozen": false,
     "read_only": false
    }
   },
   "outputs": [],
   "source": [
    "%aimport lab2"
   ]
  },
  {
   "cell_type": "code",
   "execution_count": 3,
   "metadata": {
    "ExecuteTime": {
     "end_time": "2016-11-08T16:45:15.619148",
     "start_time": "2016-11-08T16:45:15.517797"
    },
    "collapsed": false,
    "run_control": {
     "frozen": false,
     "read_only": false
    }
   },
   "outputs": [
    {
     "data": {
      "text/plain": [
       "(array([ 1.00000025,  1.00000045]), array([-1.9,  2. ]), 195)"
      ]
     },
     "execution_count": 3,
     "metadata": {},
     "output_type": "execute_result"
    }
   ],
   "source": [
    "f = lab2.Call_counter(lab2.f1)\n",
    "x_0 = lab2.f1_0\n",
    "lab2.nelde_mead(f, x_0), x_0, f.count()"
   ]
  },
  {
   "cell_type": "markdown",
   "metadata": {},
   "source": [
    "# 1\n",
    "\n",
    "Definirajte jednodimenzijsku funkciju br. 3, koja će imati minimum u točki 3. Kao početnu točku\n",
    "pretraživanja postavite točku 10. Primijenite sva tri postupka na rješavanje ove funkcije te ispišite\n",
    "pronađeni minimum i broj evaluacija funkcije za svaki pojedini postupak. Probajte sve više\n",
    "udaljavati početnu točku od minimuma i probajte ponovo pokrenuti navedene postupke. Što možete\n",
    "zaključiti? "
   ]
  },
  {
   "cell_type": "code",
   "execution_count": 4,
   "metadata": {
    "ExecuteTime": {
     "end_time": "2016-11-08T16:45:15.734238",
     "start_time": "2016-11-08T16:45:15.621812"
    },
    "collapsed": false,
    "run_control": {
     "frozen": false,
     "read_only": false
    }
   },
   "outputs": [
    {
     "name": "stdout",
     "output_type": "stream",
     "text": [
      "nelde_mead [ 1.00000024  2.00000072  3.00000095] 170\n",
      "coordinate_descent [ 1.  2.  3.] 222\n",
      "hook_jeeves [ 1.  2.  3.] 169\n"
     ]
    }
   ],
   "source": [
    "opt = [lab2.nelde_mead, lab2.coordinate_descent, lab2.hook_jeeves]\n",
    "\n",
    "for op in opt:\n",
    "    f = lab2.Call_counter(lab2.f3)\n",
    "    xopt = op(f, np.array([10,0,0], dtype=np.float32))\n",
    "    print(op.__name__, xopt, f.count())"
   ]
  },
  {
   "cell_type": "code",
   "execution_count": 5,
   "metadata": {
    "ExecuteTime": {
     "end_time": "2016-11-08T16:45:15.854503",
     "start_time": "2016-11-08T16:45:15.739398"
    },
    "collapsed": false
   },
   "outputs": [
    {
     "name": "stdout",
     "output_type": "stream",
     "text": [
      "nelde_mead [ 1.00000048  1.99999976  2.99999952] 216\n",
      "coordinate_descent [ 1.00000012  2.          3.        ] 223\n",
      "hook_jeeves [ 1.  2.  3.] 176\n"
     ]
    }
   ],
   "source": [
    "for op in opt:\n",
    "    f = lab2.Call_counter(lab2.f3)\n",
    "    xopt = op(f, np.array([20,0,0], dtype=np.float32))\n",
    "    print(op.__name__, xopt, f.count())"
   ]
  },
  {
   "cell_type": "code",
   "execution_count": 6,
   "metadata": {
    "ExecuteTime": {
     "end_time": "2016-11-08T16:45:15.977490",
     "start_time": "2016-11-08T16:45:15.857110"
    },
    "collapsed": false
   },
   "outputs": [
    {
     "name": "stdout",
     "output_type": "stream",
     "text": [
      "nelde_mead [ 0.99999976  2.00000048  2.99999952] 222\n",
      "coordinate_descent [ 1.  2.  3.] 227\n",
      "hook_jeeves [ 1.  2.  3.] 195\n"
     ]
    }
   ],
   "source": [
    "for op in opt:\n",
    "    f = lab2.Call_counter(lab2.f3)\n",
    "    xopt = op(f, np.array([30,0,0], dtype=np.float32))\n",
    "    print(op.__name__, xopt, f.count())"
   ]
  },
  {
   "cell_type": "markdown",
   "metadata": {},
   "source": [
    "# 2\n",
    "\n",
    "Primijenite simpleks po Nelderu i Meadu, Hooke-Jeeves postupak te pretraživanje po koordinatnim\n",
    "osima na funkcije 1-4 uz zadane parametre i početne točke (broj varijabli funkcije 3 najmanje 5). Za\n",
    "svaki postupak i svaku funkciju odredite minimum koji su postupci pronašli i potrebni broj\n",
    "evaluacija funkcije cilja koji je potreban do konvergencije (prikažite tablično). Što možete zaključiti\n",
    "iz rezultata? "
   ]
  },
  {
   "cell_type": "code",
   "execution_count": 7,
   "metadata": {
    "ExecuteTime": {
     "end_time": "2016-11-08T16:45:20.509469",
     "start_time": "2016-11-08T16:45:15.980149"
    },
    "collapsed": false,
    "run_control": {
     "frozen": false,
     "read_only": false
    }
   },
   "outputs": [
    {
     "data": {
      "text/html": [
       "<div>\n",
       "<table border=\"1\" class=\"dataframe\">\n",
       "  <thead>\n",
       "    <tr style=\"text-align: right;\">\n",
       "      <th></th>\n",
       "      <th>f</th>\n",
       "      <th>x_0</th>\n",
       "      <th>x</th>\n",
       "      <th>algo</th>\n",
       "      <th>iter</th>\n",
       "    </tr>\n",
       "  </thead>\n",
       "  <tbody>\n",
       "    <tr>\n",
       "      <th>0</th>\n",
       "      <td>f1</td>\n",
       "      <td>[-1.9, 2.0]</td>\n",
       "      <td>[1.00000025168, 1.0000004493]</td>\n",
       "      <td>nelde_mead</td>\n",
       "      <td>195</td>\n",
       "    </tr>\n",
       "    <tr>\n",
       "      <th>1</th>\n",
       "      <td>f1</td>\n",
       "      <td>[-1.9, 2.0]</td>\n",
       "      <td>[0.999841285976, 0.999682395459]</td>\n",
       "      <td>coordinate_descent</td>\n",
       "      <td>229744</td>\n",
       "    </tr>\n",
       "    <tr>\n",
       "      <th>2</th>\n",
       "      <td>f1</td>\n",
       "      <td>[-1.9, 2.0]</td>\n",
       "      <td>[1.00000152588, 1.0000038147]</td>\n",
       "      <td>hook_jeeves</td>\n",
       "      <td>378</td>\n",
       "    </tr>\n",
       "    <tr>\n",
       "      <th>3</th>\n",
       "      <td>f2</td>\n",
       "      <td>[0.1, 0.3]</td>\n",
       "      <td>[4.00000005793, 1.99999941747]</td>\n",
       "      <td>nelde_mead</td>\n",
       "      <td>106</td>\n",
       "    </tr>\n",
       "    <tr>\n",
       "      <th>4</th>\n",
       "      <td>f2</td>\n",
       "      <td>[0.1, 0.3]</td>\n",
       "      <td>[3.99999995672, 2.00000003852]</td>\n",
       "      <td>coordinate_descent</td>\n",
       "      <td>164</td>\n",
       "    </tr>\n",
       "    <tr>\n",
       "      <th>5</th>\n",
       "      <td>f2</td>\n",
       "      <td>[0.1, 0.3]</td>\n",
       "      <td>[3.99999961853, 2.00000076294]</td>\n",
       "      <td>hook_jeeves</td>\n",
       "      <td>119</td>\n",
       "    </tr>\n",
       "    <tr>\n",
       "      <th>6</th>\n",
       "      <td>f3</td>\n",
       "      <td>[0.0, 0.0, 0.0, 0.0, 0.0]</td>\n",
       "      <td>[1.0, 2.0, 3.0, 4.0, 5.0]</td>\n",
       "      <td>nelde_mead</td>\n",
       "      <td>426</td>\n",
       "    </tr>\n",
       "    <tr>\n",
       "      <th>7</th>\n",
       "      <td>f3</td>\n",
       "      <td>[0.0, 0.0, 0.0, 0.0, 0.0]</td>\n",
       "      <td>[1.0, 2.0, 3.0, 4.0, 5.0]</td>\n",
       "      <td>coordinate_descent</td>\n",
       "      <td>358</td>\n",
       "    </tr>\n",
       "    <tr>\n",
       "      <th>8</th>\n",
       "      <td>f3</td>\n",
       "      <td>[0.0, 0.0, 0.0, 0.0, 0.0]</td>\n",
       "      <td>[1.0, 2.0, 3.0, 4.0, 5.0]</td>\n",
       "      <td>hook_jeeves</td>\n",
       "      <td>242</td>\n",
       "    </tr>\n",
       "    <tr>\n",
       "      <th>9</th>\n",
       "      <td>f4</td>\n",
       "      <td>[5.1, 1.1]</td>\n",
       "      <td>[-7.8353274332e-07, 6.28515547702e-07]</td>\n",
       "      <td>nelde_mead</td>\n",
       "      <td>131</td>\n",
       "    </tr>\n",
       "    <tr>\n",
       "      <th>10</th>\n",
       "      <td>f4</td>\n",
       "      <td>[5.1, 1.1]</td>\n",
       "      <td>[-1.09999985919, 1.09999971857]</td>\n",
       "      <td>coordinate_descent</td>\n",
       "      <td>168</td>\n",
       "    </tr>\n",
       "    <tr>\n",
       "      <th>11</th>\n",
       "      <td>f4</td>\n",
       "      <td>[5.1, 1.1]</td>\n",
       "      <td>[3.1, 3.1]</td>\n",
       "      <td>hook_jeeves</td>\n",
       "      <td>86</td>\n",
       "    </tr>\n",
       "  </tbody>\n",
       "</table>\n",
       "</div>"
      ],
      "text/plain": [
       "     f                        x_0                                       x  \\\n",
       "0   f1                [-1.9, 2.0]           [1.00000025168, 1.0000004493]   \n",
       "1   f1                [-1.9, 2.0]        [0.999841285976, 0.999682395459]   \n",
       "2   f1                [-1.9, 2.0]           [1.00000152588, 1.0000038147]   \n",
       "3   f2                 [0.1, 0.3]          [4.00000005793, 1.99999941747]   \n",
       "4   f2                 [0.1, 0.3]          [3.99999995672, 2.00000003852]   \n",
       "5   f2                 [0.1, 0.3]          [3.99999961853, 2.00000076294]   \n",
       "6   f3  [0.0, 0.0, 0.0, 0.0, 0.0]               [1.0, 2.0, 3.0, 4.0, 5.0]   \n",
       "7   f3  [0.0, 0.0, 0.0, 0.0, 0.0]               [1.0, 2.0, 3.0, 4.0, 5.0]   \n",
       "8   f3  [0.0, 0.0, 0.0, 0.0, 0.0]               [1.0, 2.0, 3.0, 4.0, 5.0]   \n",
       "9   f4                 [5.1, 1.1]  [-7.8353274332e-07, 6.28515547702e-07]   \n",
       "10  f4                 [5.1, 1.1]         [-1.09999985919, 1.09999971857]   \n",
       "11  f4                 [5.1, 1.1]                              [3.1, 3.1]   \n",
       "\n",
       "                  algo    iter  \n",
       "0           nelde_mead     195  \n",
       "1   coordinate_descent  229744  \n",
       "2          hook_jeeves     378  \n",
       "3           nelde_mead     106  \n",
       "4   coordinate_descent     164  \n",
       "5          hook_jeeves     119  \n",
       "6           nelde_mead     426  \n",
       "7   coordinate_descent     358  \n",
       "8          hook_jeeves     242  \n",
       "9           nelde_mead     131  \n",
       "10  coordinate_descent     168  \n",
       "11         hook_jeeves      86  "
      ]
     },
     "execution_count": 7,
     "metadata": {},
     "output_type": "execute_result"
    }
   ],
   "source": [
    "func = [lab2.f1, lab2.f2, lab2.f3, lab2.f4]\n",
    "x_0 = [lab2.f1_0, lab2.f2_0, np.zeros(5, dtype=np.float32), lab2.f4_0]\n",
    "\n",
    "\n",
    "gg = []\n",
    "for ff, x_0 in zip(func, x_0):\n",
    "    for op in opt:\n",
    "        f = lab2.Call_counter(ff)\n",
    "        x = op(f, x_0)\n",
    "        row = [ff.__name__, x_0, x, op.__name__, f.count()]\n",
    "        gg.append(row)\n",
    "df = pd.DataFrame(gg, columns=[\"f\", \"x_0\", \"x\", \"algo\", \"iter\"])\n",
    "df        "
   ]
  },
  {
   "cell_type": "markdown",
   "metadata": {},
   "source": [
    "# 3\n",
    "\n",
    "Primijenite postupak Hooke-Jeeves i simpleks po Nelderu i Meadu na funkciju 4 uz početnu točku\n",
    "(5, 5). Objasnite rezultate! "
   ]
  },
  {
   "cell_type": "code",
   "execution_count": 8,
   "metadata": {
    "ExecuteTime": {
     "end_time": "2016-11-08T16:45:20.552846",
     "start_time": "2016-11-08T16:45:20.513921"
    },
    "collapsed": false,
    "run_control": {
     "frozen": false,
     "read_only": false
    }
   },
   "outputs": [
    {
     "data": {
      "text/plain": [
       "array([  5.23805589e-07,   3.89965473e-07])"
      ]
     },
     "execution_count": 8,
     "metadata": {},
     "output_type": "execute_result"
    }
   ],
   "source": [
    "lab2.nelde_mead(lab2.f4, np.array([5.0,5.0]))"
   ]
  },
  {
   "cell_type": "code",
   "execution_count": 9,
   "metadata": {
    "ExecuteTime": {
     "end_time": "2016-11-08T16:45:20.591850",
     "start_time": "2016-11-08T16:45:20.562792"
    },
    "collapsed": false
   },
   "outputs": [
    {
     "data": {
      "text/plain": [
       "array([ 5.,  5.])"
      ]
     },
     "execution_count": 9,
     "metadata": {},
     "output_type": "execute_result"
    }
   ],
   "source": [
    "lab2.hook_jeeves(lab2.f4, np.array([5.0,5.0]))  # Malo se zbedirao"
   ]
  },
  {
   "cell_type": "markdown",
   "metadata": {},
   "source": [
    "# 4\n",
    "Primijenite simpleks po Nelderu i Meadu na funkciju 1. Kao početnu točku postavite točku (0.5,0.5).\n",
    "Provedite postupak s nekoliko različitih koraka za generiranje početnog simpleksa (primjerice iz\n",
    "intervala od 1 do 20) i zabilježite potreban broj evaluacija funkcije cilja i pronađene točke\n",
    "minimuma. Potom probajte kao početnu točku postaviti točku (20,20) i ponovo provesti eksperiment.\n",
    "Što možete zaključiti? "
   ]
  },
  {
   "cell_type": "code",
   "execution_count": 10,
   "metadata": {
    "ExecuteTime": {
     "end_time": "2016-11-08T16:45:29.902329",
     "start_time": "2016-11-08T16:45:20.597608"
    },
    "collapsed": false
   },
   "outputs": [
    {
     "data": {
      "text/html": [
       "<div>\n",
       "<table border=\"1\" class=\"dataframe\">\n",
       "  <thead>\n",
       "    <tr style=\"text-align: right;\">\n",
       "      <th></th>\n",
       "      <th>f</th>\n",
       "      <th>x_0</th>\n",
       "      <th>x</th>\n",
       "      <th>shift</th>\n",
       "      <th>iter</th>\n",
       "    </tr>\n",
       "  </thead>\n",
       "  <tbody>\n",
       "    <tr>\n",
       "      <th>0</th>\n",
       "      <td>f4</td>\n",
       "      <td>[0.5, 0.5]</td>\n",
       "      <td>[1.0, 1.0]</td>\n",
       "      <td>1</td>\n",
       "      <td>111</td>\n",
       "    </tr>\n",
       "    <tr>\n",
       "      <th>1</th>\n",
       "      <td>f4</td>\n",
       "      <td>[0.5, 0.5]</td>\n",
       "      <td>[1.0, 0.999999]</td>\n",
       "      <td>2</td>\n",
       "      <td>203</td>\n",
       "    </tr>\n",
       "    <tr>\n",
       "      <th>2</th>\n",
       "      <td>f4</td>\n",
       "      <td>[0.5, 0.5]</td>\n",
       "      <td>[1.0, 1.0]</td>\n",
       "      <td>3</td>\n",
       "      <td>146</td>\n",
       "    </tr>\n",
       "    <tr>\n",
       "      <th>3</th>\n",
       "      <td>f4</td>\n",
       "      <td>[0.5, 0.5]</td>\n",
       "      <td>[0.999999, 0.999999]</td>\n",
       "      <td>4</td>\n",
       "      <td>177</td>\n",
       "    </tr>\n",
       "    <tr>\n",
       "      <th>4</th>\n",
       "      <td>f4</td>\n",
       "      <td>[0.5, 0.5]</td>\n",
       "      <td>[0.350617, 0.126542]</td>\n",
       "      <td>5</td>\n",
       "      <td>87</td>\n",
       "    </tr>\n",
       "    <tr>\n",
       "      <th>5</th>\n",
       "      <td>f4</td>\n",
       "      <td>[0.5, 0.5]</td>\n",
       "      <td>[0.999999, 0.999999]</td>\n",
       "      <td>6</td>\n",
       "      <td>239</td>\n",
       "    </tr>\n",
       "    <tr>\n",
       "      <th>6</th>\n",
       "      <td>f4</td>\n",
       "      <td>[0.5, 0.5]</td>\n",
       "      <td>[0.5, 0.5]</td>\n",
       "      <td>7</td>\n",
       "      <td>88</td>\n",
       "    </tr>\n",
       "    <tr>\n",
       "      <th>7</th>\n",
       "      <td>f4</td>\n",
       "      <td>[0.5, 0.5]</td>\n",
       "      <td>[1.0, 1.0]</td>\n",
       "      <td>8</td>\n",
       "      <td>169</td>\n",
       "    </tr>\n",
       "    <tr>\n",
       "      <th>8</th>\n",
       "      <td>f4</td>\n",
       "      <td>[0.5, 0.5]</td>\n",
       "      <td>[0.31543, 0.108887]</td>\n",
       "      <td>9</td>\n",
       "      <td>91</td>\n",
       "    </tr>\n",
       "    <tr>\n",
       "      <th>9</th>\n",
       "      <td>f4</td>\n",
       "      <td>[0.5, 0.5]</td>\n",
       "      <td>[1.0, 1.0]</td>\n",
       "      <td>10</td>\n",
       "      <td>143</td>\n",
       "    </tr>\n",
       "    <tr>\n",
       "      <th>10</th>\n",
       "      <td>f4</td>\n",
       "      <td>[0.5, 0.5]</td>\n",
       "      <td>[0.0327148, 0.0783691]</td>\n",
       "      <td>11</td>\n",
       "      <td>91</td>\n",
       "    </tr>\n",
       "    <tr>\n",
       "      <th>11</th>\n",
       "      <td>f4</td>\n",
       "      <td>[0.5, 0.5]</td>\n",
       "      <td>[-0.0264455, 0.0111577]</td>\n",
       "      <td>12</td>\n",
       "      <td>92</td>\n",
       "    </tr>\n",
       "    <tr>\n",
       "      <th>12</th>\n",
       "      <td>f4</td>\n",
       "      <td>[0.5, 0.5]</td>\n",
       "      <td>[1.0, 1.0]</td>\n",
       "      <td>13</td>\n",
       "      <td>253</td>\n",
       "    </tr>\n",
       "    <tr>\n",
       "      <th>13</th>\n",
       "      <td>f4</td>\n",
       "      <td>[0.5, 0.5]</td>\n",
       "      <td>[0.117188, 0.144531]</td>\n",
       "      <td>14</td>\n",
       "      <td>89</td>\n",
       "    </tr>\n",
       "    <tr>\n",
       "      <th>14</th>\n",
       "      <td>f4</td>\n",
       "      <td>[0.5, 0.5]</td>\n",
       "      <td>[1.0, 0.999999]</td>\n",
       "      <td>15</td>\n",
       "      <td>153</td>\n",
       "    </tr>\n",
       "    <tr>\n",
       "      <th>15</th>\n",
       "      <td>f4</td>\n",
       "      <td>[0.5, 0.5]</td>\n",
       "      <td>[0.5, 0.5]</td>\n",
       "      <td>16</td>\n",
       "      <td>95</td>\n",
       "    </tr>\n",
       "    <tr>\n",
       "      <th>16</th>\n",
       "      <td>f4</td>\n",
       "      <td>[0.5, 0.5]</td>\n",
       "      <td>[-0.130859, 0.217773]</td>\n",
       "      <td>17</td>\n",
       "      <td>90</td>\n",
       "    </tr>\n",
       "    <tr>\n",
       "      <th>17</th>\n",
       "      <td>f4</td>\n",
       "      <td>[0.5, 0.5]</td>\n",
       "      <td>[-0.167969, 0.201172]</td>\n",
       "      <td>18</td>\n",
       "      <td>92</td>\n",
       "    </tr>\n",
       "    <tr>\n",
       "      <th>18</th>\n",
       "      <td>f4</td>\n",
       "      <td>[0.5, 0.5]</td>\n",
       "      <td>[-0.205078, 0.18457]</td>\n",
       "      <td>19</td>\n",
       "      <td>93</td>\n",
       "    </tr>\n",
       "    <tr>\n",
       "      <th>19</th>\n",
       "      <td>f4</td>\n",
       "      <td>[0.5, 0.5]</td>\n",
       "      <td>[-0.242188, 0.167969]</td>\n",
       "      <td>20</td>\n",
       "      <td>92</td>\n",
       "    </tr>\n",
       "    <tr>\n",
       "      <th>20</th>\n",
       "      <td>f4</td>\n",
       "      <td>[20, 20]</td>\n",
       "      <td>[0.999999, 0.999997]</td>\n",
       "      <td>1</td>\n",
       "      <td>414</td>\n",
       "    </tr>\n",
       "    <tr>\n",
       "      <th>21</th>\n",
       "      <td>f4</td>\n",
       "      <td>[20, 20]</td>\n",
       "      <td>[-6.0, 40.5]</td>\n",
       "      <td>2</td>\n",
       "      <td>78</td>\n",
       "    </tr>\n",
       "    <tr>\n",
       "      <th>22</th>\n",
       "      <td>f4</td>\n",
       "      <td>[20, 20]</td>\n",
       "      <td>[0.999999, 0.999999]</td>\n",
       "      <td>3</td>\n",
       "      <td>403</td>\n",
       "    </tr>\n",
       "    <tr>\n",
       "      <th>23</th>\n",
       "      <td>f4</td>\n",
       "      <td>[20, 20]</td>\n",
       "      <td>[0.999999, 0.999999]</td>\n",
       "      <td>4</td>\n",
       "      <td>381</td>\n",
       "    </tr>\n",
       "    <tr>\n",
       "      <th>24</th>\n",
       "      <td>f4</td>\n",
       "      <td>[20, 20]</td>\n",
       "      <td>[5.0, 33.75]</td>\n",
       "      <td>5</td>\n",
       "      <td>72</td>\n",
       "    </tr>\n",
       "    <tr>\n",
       "      <th>25</th>\n",
       "      <td>f4</td>\n",
       "      <td>[20, 20]</td>\n",
       "      <td>[0.999999, 0.999998]</td>\n",
       "      <td>6</td>\n",
       "      <td>338</td>\n",
       "    </tr>\n",
       "    <tr>\n",
       "      <th>26</th>\n",
       "      <td>f4</td>\n",
       "      <td>[20, 20]</td>\n",
       "      <td>[6.0, 36.0]</td>\n",
       "      <td>7</td>\n",
       "      <td>69</td>\n",
       "    </tr>\n",
       "    <tr>\n",
       "      <th>27</th>\n",
       "      <td>f4</td>\n",
       "      <td>[20, 20]</td>\n",
       "      <td>[4.0, 32.0]</td>\n",
       "      <td>8</td>\n",
       "      <td>71</td>\n",
       "    </tr>\n",
       "    <tr>\n",
       "      <th>28</th>\n",
       "      <td>f4</td>\n",
       "      <td>[20, 20]</td>\n",
       "      <td>[1.0, 1.0]</td>\n",
       "      <td>9</td>\n",
       "      <td>382</td>\n",
       "    </tr>\n",
       "    <tr>\n",
       "      <th>29</th>\n",
       "      <td>f4</td>\n",
       "      <td>[20, 20]</td>\n",
       "      <td>[1.0, 1.0]</td>\n",
       "      <td>10</td>\n",
       "      <td>351</td>\n",
       "    </tr>\n",
       "    <tr>\n",
       "      <th>30</th>\n",
       "      <td>f4</td>\n",
       "      <td>[20, 20]</td>\n",
       "      <td>[1.0, 1.0]</td>\n",
       "      <td>11</td>\n",
       "      <td>231</td>\n",
       "    </tr>\n",
       "    <tr>\n",
       "      <th>31</th>\n",
       "      <td>f4</td>\n",
       "      <td>[20, 20]</td>\n",
       "      <td>[-4.0, 38.0]</td>\n",
       "      <td>12</td>\n",
       "      <td>74</td>\n",
       "    </tr>\n",
       "    <tr>\n",
       "      <th>32</th>\n",
       "      <td>f4</td>\n",
       "      <td>[20, 20]</td>\n",
       "      <td>[-6.0, 39.5]</td>\n",
       "      <td>13</td>\n",
       "      <td>74</td>\n",
       "    </tr>\n",
       "    <tr>\n",
       "      <th>33</th>\n",
       "      <td>f4</td>\n",
       "      <td>[20, 20]</td>\n",
       "      <td>[1.0, 1.0]</td>\n",
       "      <td>14</td>\n",
       "      <td>346</td>\n",
       "    </tr>\n",
       "    <tr>\n",
       "      <th>34</th>\n",
       "      <td>f4</td>\n",
       "      <td>[20, 20]</td>\n",
       "      <td>[1.0, 1.0]</td>\n",
       "      <td>15</td>\n",
       "      <td>323</td>\n",
       "    </tr>\n",
       "    <tr>\n",
       "      <th>35</th>\n",
       "      <td>f4</td>\n",
       "      <td>[20, 20]</td>\n",
       "      <td>[3.42154, 11.7108]</td>\n",
       "      <td>16</td>\n",
       "      <td>93</td>\n",
       "    </tr>\n",
       "    <tr>\n",
       "      <th>36</th>\n",
       "      <td>f4</td>\n",
       "      <td>[20, 20]</td>\n",
       "      <td>[-5.5, 41.25]</td>\n",
       "      <td>17</td>\n",
       "      <td>80</td>\n",
       "    </tr>\n",
       "    <tr>\n",
       "      <th>37</th>\n",
       "      <td>f4</td>\n",
       "      <td>[20, 20]</td>\n",
       "      <td>[1.0, 1.0]</td>\n",
       "      <td>18</td>\n",
       "      <td>372</td>\n",
       "    </tr>\n",
       "    <tr>\n",
       "      <th>38</th>\n",
       "      <td>f4</td>\n",
       "      <td>[20, 20]</td>\n",
       "      <td>[1.0, 1.0]</td>\n",
       "      <td>19</td>\n",
       "      <td>386</td>\n",
       "    </tr>\n",
       "    <tr>\n",
       "      <th>39</th>\n",
       "      <td>f4</td>\n",
       "      <td>[20, 20]</td>\n",
       "      <td>[1.0, 1.0]</td>\n",
       "      <td>20</td>\n",
       "      <td>382</td>\n",
       "    </tr>\n",
       "  </tbody>\n",
       "</table>\n",
       "</div>"
      ],
      "text/plain": [
       "     f         x_0                        x  shift  iter\n",
       "0   f4  [0.5, 0.5]               [1.0, 1.0]      1   111\n",
       "1   f4  [0.5, 0.5]          [1.0, 0.999999]      2   203\n",
       "2   f4  [0.5, 0.5]               [1.0, 1.0]      3   146\n",
       "3   f4  [0.5, 0.5]     [0.999999, 0.999999]      4   177\n",
       "4   f4  [0.5, 0.5]     [0.350617, 0.126542]      5    87\n",
       "5   f4  [0.5, 0.5]     [0.999999, 0.999999]      6   239\n",
       "6   f4  [0.5, 0.5]               [0.5, 0.5]      7    88\n",
       "7   f4  [0.5, 0.5]               [1.0, 1.0]      8   169\n",
       "8   f4  [0.5, 0.5]      [0.31543, 0.108887]      9    91\n",
       "9   f4  [0.5, 0.5]               [1.0, 1.0]     10   143\n",
       "10  f4  [0.5, 0.5]   [0.0327148, 0.0783691]     11    91\n",
       "11  f4  [0.5, 0.5]  [-0.0264455, 0.0111577]     12    92\n",
       "12  f4  [0.5, 0.5]               [1.0, 1.0]     13   253\n",
       "13  f4  [0.5, 0.5]     [0.117188, 0.144531]     14    89\n",
       "14  f4  [0.5, 0.5]          [1.0, 0.999999]     15   153\n",
       "15  f4  [0.5, 0.5]               [0.5, 0.5]     16    95\n",
       "16  f4  [0.5, 0.5]    [-0.130859, 0.217773]     17    90\n",
       "17  f4  [0.5, 0.5]    [-0.167969, 0.201172]     18    92\n",
       "18  f4  [0.5, 0.5]     [-0.205078, 0.18457]     19    93\n",
       "19  f4  [0.5, 0.5]    [-0.242188, 0.167969]     20    92\n",
       "20  f4    [20, 20]     [0.999999, 0.999997]      1   414\n",
       "21  f4    [20, 20]             [-6.0, 40.5]      2    78\n",
       "22  f4    [20, 20]     [0.999999, 0.999999]      3   403\n",
       "23  f4    [20, 20]     [0.999999, 0.999999]      4   381\n",
       "24  f4    [20, 20]             [5.0, 33.75]      5    72\n",
       "25  f4    [20, 20]     [0.999999, 0.999998]      6   338\n",
       "26  f4    [20, 20]              [6.0, 36.0]      7    69\n",
       "27  f4    [20, 20]              [4.0, 32.0]      8    71\n",
       "28  f4    [20, 20]               [1.0, 1.0]      9   382\n",
       "29  f4    [20, 20]               [1.0, 1.0]     10   351\n",
       "30  f4    [20, 20]               [1.0, 1.0]     11   231\n",
       "31  f4    [20, 20]             [-4.0, 38.0]     12    74\n",
       "32  f4    [20, 20]             [-6.0, 39.5]     13    74\n",
       "33  f4    [20, 20]               [1.0, 1.0]     14   346\n",
       "34  f4    [20, 20]               [1.0, 1.0]     15   323\n",
       "35  f4    [20, 20]       [3.42154, 11.7108]     16    93\n",
       "36  f4    [20, 20]            [-5.5, 41.25]     17    80\n",
       "37  f4    [20, 20]               [1.0, 1.0]     18   372\n",
       "38  f4    [20, 20]               [1.0, 1.0]     19   386\n",
       "39  f4    [20, 20]               [1.0, 1.0]     20   382"
      ]
     },
     "execution_count": 10,
     "metadata": {},
     "output_type": "execute_result"
    }
   ],
   "source": [
    "gg = []\n",
    "\n",
    "for x_0 in [[0.5, 0.5], [20,20]]:\n",
    "    for shift in range(1, 21):\n",
    "        f = lab2.Call_counter(lab2.f1)\n",
    "        x = lab2.nelde_mead(f, np.array(x_0, dtype=np.float32), shift=shift)\n",
    "        row = [ff.__name__, x_0, x, shift, f.count()]\n",
    "        gg.append(row)\n",
    "df = pd.DataFrame(gg, columns=[\"f\", \"x_0\", \"x\", \"shift\", \"iter\"])\n",
    "df        "
   ]
  },
  {
   "cell_type": "code",
   "execution_count": 11,
   "metadata": {
    "ExecuteTime": {
     "end_time": "2016-11-08T16:45:29.916364",
     "start_time": "2016-11-08T16:45:29.906788"
    },
    "collapsed": true
   },
   "outputs": [],
   "source": [
    "df['dist'] = (df['x'] - np.array([1,1])).apply(np.linalg.norm)"
   ]
  },
  {
   "cell_type": "code",
   "execution_count": 12,
   "metadata": {
    "ExecuteTime": {
     "end_time": "2016-11-08T16:45:30.489104",
     "start_time": "2016-11-08T16:45:29.921213"
    },
    "collapsed": false
   },
   "outputs": [
    {
     "data": {
      "text/plain": [
       "<matplotlib.axes._subplots.AxesSubplot at 0x7ff4ec56efd0>"
      ]
     },
     "execution_count": 12,
     "metadata": {},
     "output_type": "execute_result"
    },
    {
     "data": {
      "image/png": "[encoded data removed]",
      "text/plain": [
       "<matplotlib.figure.Figure at 0x7ff4ecc42f98>"
      ]
     },
     "metadata": {},
     "output_type": "display_data"
    }
   ],
   "source": [
    "fig, (ax1, ax2) = plt.subplots(2, 1, sharex=True)\n",
    "df[:20][\"iter\"].plot(ax=ax1, style='o')\n",
    "df[:20][\"dist\"].plot(ax=ax2, style='o')"
   ]
  },
  {
   "cell_type": "code",
   "execution_count": 13,
   "metadata": {
    "ExecuteTime": {
     "end_time": "2016-11-08T16:45:30.960048",
     "start_time": "2016-11-08T16:45:30.496459"
    },
    "collapsed": false
   },
   "outputs": [
    {
     "data": {
      "text/plain": [
       "<matplotlib.axes._subplots.AxesSubplot at 0x7ff4ec2bc908>"
      ]
     },
     "execution_count": 13,
     "metadata": {},
     "output_type": "execute_result"
    },
    {
     "data": {
      "image/png": "[encoded data removed]",
      "text/plain": [
       "<matplotlib.figure.Figure at 0x7ff4ed0cc940>"
      ]
     },
     "metadata": {},
     "output_type": "display_data"
    }
   ],
   "source": [
    "fig, (ax1, ax2) = plt.subplots(2, 1, sharex=True)\n",
    "df[20:][\"iter\"].plot(ax=ax1, style='o')\n",
    "df[20:][\"dist\"].plot(ax=ax2, style='o')"
   ]
  },
  {
   "cell_type": "markdown",
   "metadata": {},
   "source": [
    "# 5\n",
    "\n",
    "Primijenite jedan postupak optimizacije na funkciju 6 u dvije dimenzije, tako da postupak pokrećete\n",
    "više puta iz slučajno odabrane početne točke u intervalu [-50,50]. Možete li odrediti vjerojatnost\n",
    "pronalaženja globalnog optimuma na ovaj način? (smatramo da je algoritam locirao globalni\n",
    "minimum ako je nađena vrijednost funkcije cilja manja od 4\n",
    "10−\n",
    ")¸ "
   ]
  },
  {
   "cell_type": "code",
   "execution_count": 14,
   "metadata": {
    "ExecuteTime": {
     "end_time": "2016-11-08T16:45:36.034762",
     "start_time": "2016-11-08T16:45:30.964753"
    },
    "collapsed": false,
    "run_control": {
     "frozen": false,
     "read_only": false
    }
   },
   "outputs": [
    {
     "name": "stdout",
     "output_type": "stream",
     "text": [
      "0.215\n"
     ]
    }
   ],
   "source": [
    "from scipy.optimize import minimize\n",
    "hit = 0 \n",
    "n = 1000\n",
    "for x in range(n):\n",
    "    g = minimize(lab2.f6, np.random.uniform(-50,50, size=2), method='Nelder-Mead')\n",
    "#     print(g['x'], g['fun'])\n",
    "    if g['fun'] < 1e-4:\n",
    "        hit += 1\n",
    "        \n",
    "print(hit/n)"
   ]
  }
 ],
 "metadata": {
  "kernelspec": {
   "display_name": "Python 3",
   "language": "python",
   "name": "python3"
  },
  "language_info": {
   "codemirror_mode": {
    "name": "ipython",
    "version": 3
   },
   "file_extension": ".py",
   "mimetype": "text/x-python",
   "name": "python",
   "nbconvert_exporter": "python",
   "pygments_lexer": "ipython3",
   "version": "3.5.2"
  }
 },
 "nbformat": 4,
 "nbformat_minor": 1
}
