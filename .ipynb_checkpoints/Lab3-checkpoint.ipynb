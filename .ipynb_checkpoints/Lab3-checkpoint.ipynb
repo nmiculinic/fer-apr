{
 "cells": [
  {
   "cell_type": "code",
   "execution_count": 75,
   "metadata": {
    "ExecuteTime": {
     "end_time": "2016-12-04T19:46:05.524860",
     "start_time": "2016-12-04T19:46:05.520880"
    },
    "collapsed": false,
    "run_control": {
     "frozen": false,
     "read_only": false
    }
   },
   "outputs": [],
   "source": [
    "from __future__ import division\n",
    "import numpy as np\n",
    "from sympy import *\n",
    "from sympy.utilities import lambdify\n",
    "init_printing()\n",
    "from sympy import  Matrix\n",
    "from sympy.abc import x, y\n",
    "from lab2 import Call_counter, unimodalni, gss\n",
    "from scipy.optimize import minimize"
   ]
  },
  {
   "cell_type": "code",
   "execution_count": 2,
   "metadata": {
    "ExecuteTime": {
     "end_time": "2016-12-04T19:09:38.906797",
     "start_time": "2016-12-04T19:09:38.877468"
    },
    "collapsed": false,
    "run_control": {
     "frozen": false,
     "read_only": false
    }
   },
   "outputs": [
    {
     "data": {
      "text/plain": [
       "(5, array([1, 4]), array([[0, 0],\n",
       "        [0, 2]]), '1...1...1')"
      ]
     },
     "execution_count": 2,
     "metadata": {},
     "output_type": "execute_result"
    }
   ],
   "source": [
    "class Function():\n",
    "    def __init__(self, func, vv):\n",
    "        self.f = lambdify([vv], func)\n",
    "        self._grad = lambdify([[x, y]], Matrix([func]).jacobian((x, y)), 'numpy')\n",
    "        self._hess = lambdify([vv], hessian(func, vv))\n",
    "        self.resetCounter()\n",
    "        \n",
    "    def resetCounter(self):\n",
    "        self.cf = 0\n",
    "        self.cg = 0\n",
    "        self.ch = 0\n",
    "        \n",
    "    def __call__(self, x):\n",
    "        self.cf += 1\n",
    "        return self.f(x)\n",
    "\n",
    "    def grad(self, x):\n",
    "        self.cg += 1\n",
    "        return self._grad(x).reshape(-1)\n",
    "    \n",
    "    def hess(self, x):\n",
    "        self.ch += 1\n",
    "        return self._hess(x)\n",
    "    \n",
    "    def summary(self):\n",
    "        return \"...\".join(map(str, [self.cf, self.cg, self.ch]))\n",
    "    \n",
    "    \n",
    "f = Function(x + y**2, [x, y])\n",
    "f([1,2]), f.grad([1,2]),f.hess([1,2]), f.summary()"
   ]
  },
  {
   "cell_type": "code",
   "execution_count": 3,
   "metadata": {
    "ExecuteTime": {
     "end_time": "2016-12-04T19:09:38.951110",
     "start_time": "2016-12-04T19:09:38.908658"
    },
    "collapsed": false,
    "run_control": {
     "frozen": false,
     "read_only": false
    }
   },
   "outputs": [],
   "source": [
    "f1 = Function(100 * (y - x**2)**2 + (1-x)**2, [x, y])\n",
    "f1_0 = np.array([-1.9, 2])"
   ]
  },
  {
   "cell_type": "code",
   "execution_count": 4,
   "metadata": {
    "ExecuteTime": {
     "end_time": "2016-12-04T19:09:38.975145",
     "start_time": "2016-12-04T19:09:38.953167"
    },
    "collapsed": false,
    "run_control": {
     "frozen": false,
     "read_only": false
    }
   },
   "outputs": [],
   "source": [
    "f2 = Function((x - 4)**2 + 4 *(y - 2)**2, [x, y])\n",
    "f2_0 = np.array([0.1, 0.3])"
   ]
  },
  {
   "cell_type": "code",
   "execution_count": 5,
   "metadata": {
    "ExecuteTime": {
     "end_time": "2016-12-04T19:09:38.996275",
     "start_time": "2016-12-04T19:09:38.976512"
    },
    "collapsed": true,
    "run_control": {
     "frozen": false,
     "read_only": false
    }
   },
   "outputs": [],
   "source": [
    "f3 = Function((x - 2)**2 + (y + 3)**2, [x, y])\n",
    "f3_0 = np.array([.0, .0])"
   ]
  },
  {
   "cell_type": "code",
   "execution_count": 6,
   "metadata": {
    "ExecuteTime": {
     "end_time": "2016-12-04T19:09:39.013780",
     "start_time": "2016-12-04T19:09:38.997113"
    },
    "collapsed": true,
    "run_control": {
     "frozen": false,
     "read_only": false
    }
   },
   "outputs": [],
   "source": [
    "f4 = Function((x-3)**2 + y**2, [x,y])\n",
    "f4_0 = np.array([.0, .0])"
   ]
  },
  {
   "cell_type": "code",
   "execution_count": 7,
   "metadata": {
    "ExecuteTime": {
     "end_time": "2016-12-04T19:09:40.554645",
     "start_time": "2016-12-04T19:09:39.128680"
    },
    "collapsed": false,
    "run_control": {
     "frozen": false,
     "read_only": false
    }
   },
   "outputs": [
    {
     "name": "stdout",
     "output_type": "stream",
     "text": [
      "max iter reached!!\n"
     ]
    },
    {
     "data": {
      "text/plain": [
       "'108401...2002...0'"
      ]
     },
     "execution_count": 7,
     "metadata": {},
     "output_type": "execute_result"
    }
   ],
   "source": [
    "def gradDescent(f, x_0, eps=1e-6, line=False, trace=False, maxIter=1000):\n",
    "    x = np.copy(x_0)\n",
    "    grad = f.grad(x)\n",
    "    it = 0\n",
    "    while np.linalg.norm(grad) > eps:\n",
    "        if it > maxIter:\n",
    "            print(\"max iter reached!!\")\n",
    "            return x\n",
    "        it += 1\n",
    "        if line:\n",
    "            def opt_f(l):\n",
    "                return f(x - l*grad)\n",
    "            \n",
    "            l, r = unimodalni(opt_f, 0.1, 1)\n",
    "            l = gss(opt_f, l, r, eps)\n",
    "\n",
    "            x -= l*grad\n",
    "        else:\n",
    "            x -= grad\n",
    "        grad = f.grad(x)\n",
    "        if trace:\n",
    "            print(x, f(x), f.grad(x))\n",
    "    return x\n",
    "\n",
    "f1.resetCounter()\n",
    "gradDescent(f1, f1_0, line=True, trace=False, maxIter=2000)\n",
    "f1.summary()"
   ]
  },
  {
   "cell_type": "code",
   "execution_count": 8,
   "metadata": {
    "ExecuteTime": {
     "end_time": "2016-12-04T19:09:40.585384",
     "start_time": "2016-12-04T19:09:40.555757"
    },
    "collapsed": false,
    "run_control": {
     "frozen": false,
     "read_only": false
    }
   },
   "outputs": [
    {
     "data": {
      "text/plain": [
       "array([ 3.99999962,  2.00000001])"
      ]
     },
     "execution_count": 8,
     "metadata": {},
     "output_type": "execute_result"
    }
   ],
   "source": [
    "def adam(f, x_0, eta = 0.1, eps=1e-6, beta1=0.9, beta2=0.999, maxIter=1000):\n",
    "    v = np.zeros_like(x_0)\n",
    "    m = np.zeros_like(x_0)\n",
    "\n",
    "    x = np.copy(x_0)\n",
    "    grad = np.ones_like(x_0)\n",
    "    it = 0\n",
    "    while np.linalg.norm(grad) > eps:\n",
    "        if it > maxIter:\n",
    "            print(\"max iter reached!!\")\n",
    "            return x\n",
    "        it += 1\n",
    "        grad = f.grad(x)\n",
    "\n",
    "        m = beta1*m + (1 - beta1)*grad\n",
    "        v = beta2*v + (1 - beta2)*np.square(grad)\n",
    "        m_est = m/(1 - np.power(beta1, it))\n",
    "        v_est = v/(1 - np.power(beta2, it))\n",
    "        \n",
    "        x -= eta*m/(np.sqrt(v_est) + eps)\n",
    "    return x\n",
    "\n",
    "adam(f2, f2_0)"
   ]
  },
  {
   "cell_type": "code",
   "execution_count": 9,
   "metadata": {
    "ExecuteTime": {
     "end_time": "2016-12-04T19:09:40.603141",
     "start_time": "2016-12-04T19:09:40.586743"
    },
    "collapsed": false,
    "run_control": {
     "frozen": false,
     "read_only": false
    }
   },
   "outputs": [
    {
     "name": "stdout",
     "output_type": "stream",
     "text": [
      "68\n"
     ]
    },
    {
     "data": {
      "text/plain": [
       "array([ 3.99999997,  2.        ])"
      ]
     },
     "execution_count": 9,
     "metadata": {},
     "output_type": "execute_result"
    }
   ],
   "source": [
    "def nesterov(f, x_0, eta=0.13, mu=0.9, eps=1e-6, maxIter=1000):\n",
    "    m = np.zeros_like(x_0)\n",
    "\n",
    "    x = np.copy(x_0)\n",
    "    grad = np.ones_like(x_0)\n",
    "    it = 0\n",
    "    while np.linalg.norm(grad) > eps:\n",
    "        if it > maxIter:\n",
    "            print(\"max iter reached!!\")\n",
    "            return x\n",
    "        it += 1\n",
    "        grad = f.grad(x - mu*eta*m)\n",
    "        m = mu*m + grad\n",
    "        x -= eta*m\n",
    "    print(it)\n",
    "    return x    \n",
    "\n",
    "nesterov(f2, f2_0)"
   ]
  },
  {
   "cell_type": "code",
   "execution_count": 10,
   "metadata": {
    "ExecuteTime": {
     "end_time": "2016-12-04T19:09:40.635501",
     "start_time": "2016-12-04T19:09:40.604324"
    },
    "collapsed": false,
    "run_control": {
     "frozen": false,
     "read_only": false
    }
   },
   "outputs": [
    {
     "name": "stdout",
     "output_type": "stream",
     "text": [
      "[-1.89102167  3.57588235] 8.35800695677 [-5.84301773 -0.01612208]\n",
      "[ 0.95413025 -7.18452491] 6552.72560477 [ 3089.33980188 -1618.97788753]\n",
      "[ 0.95415856  0.91041856] 0.00210143749102 [ -9.16825712e-02  -1.60348492e-07]\n",
      "[ 0.99999999  0.99789855] 0.000441603669625 [ 0.84057471 -0.42028736]\n",
      "[ 1.  1.] 4.7313038648e-18 [ -4.35040093e-09   5.68434189e-14]\n",
      "[ 1.  1.] 1.55849332588e-28 [  1.95399252e-14  -2.84217094e-14]\n"
     ]
    },
    {
     "data": {
      "text/plain": [
       "array([ 1.,  1.])"
      ]
     },
     "execution_count": 10,
     "metadata": {},
     "output_type": "execute_result"
    }
   ],
   "source": [
    "def nr(f, x_0, eps=1e-6, line=False, trace=False, maxIter=1000):\n",
    "    x = np.copy(x_0)\n",
    "    grad = np.ones_like(x_0)\n",
    "    it = 0\n",
    "    while np.linalg.norm(grad) > eps:\n",
    "        grad = np.dot(np.linalg.inv(f.hess(x)), f.grad(x).reshape(-1,1)).ravel()\n",
    "        if it > maxIter:\n",
    "            print(\"max iter reached!!\")\n",
    "            return x\n",
    "        it += 1\n",
    "        if line:\n",
    "            def opt_f(l):\n",
    "                return f(x - l*grad)\n",
    "            \n",
    "            l, r = unimodalni(opt_f, 0.1, 1)\n",
    "            l = gss(opt_f, l, r, eps)\n",
    "\n",
    "            x -= l*grad\n",
    "        else:\n",
    "            x -= grad\n",
    "        if trace:\n",
    "            print(x, f(x), f.grad(x))\n",
    "    return x\n",
    "\n",
    "nr(f1, f1_0, trace=True)"
   ]
  },
  {
   "cell_type": "markdown",
   "metadata": {},
   "source": [
    "# 1\n",
    "Primijenite postupak gradijentnog spusta na funkciju 3, uz i bez određivanja optimalnog iznosa\n",
    "koraka. Što možete zaključiti iz rezultata?"
   ]
  },
  {
   "cell_type": "code",
   "execution_count": 11,
   "metadata": {
    "ExecuteTime": {
     "end_time": "2016-12-04T19:09:40.665175",
     "start_time": "2016-12-04T19:09:40.636427"
    },
    "collapsed": false,
    "run_control": {
     "frozen": false,
     "read_only": false
    }
   },
   "outputs": [
    {
     "name": "stdout",
     "output_type": "stream",
     "text": [
      "max iter reached!!\n"
     ]
    },
    {
     "data": {
      "text/plain": [
       "array([ 4., -6.])"
      ]
     },
     "execution_count": 11,
     "metadata": {},
     "output_type": "execute_result"
    }
   ],
   "source": [
    "gradDescent(f3, f3_0)  # Bez line search... prevelik eta"
   ]
  },
  {
   "cell_type": "code",
   "execution_count": 12,
   "metadata": {
    "ExecuteTime": {
     "end_time": "2016-12-04T19:09:40.674493",
     "start_time": "2016-12-04T19:09:40.666143"
    },
    "collapsed": false,
    "run_control": {
     "frozen": false,
     "read_only": false
    }
   },
   "outputs": [
    {
     "data": {
      "text/plain": [
       "array([ 2., -3.])"
      ]
     },
     "execution_count": 12,
     "metadata": {},
     "output_type": "execute_result"
    }
   ],
   "source": [
    "gradDescent(f3, f3_0, line=True, maxIter=100)"
   ]
  },
  {
   "cell_type": "markdown",
   "metadata": {},
   "source": [
    "# 2 \n",
    "\n",
    "Primijenite postupak gradijentnog spusta i Newton-Raphsonov postupak na funkcije 1 i 2 s\n",
    "određivanjem optimalnog iznosa koraka. Kako se Newton-Raphsonov postupak ponaša na ovim\n",
    "funkcijama? Ispišite broj izračuna funkcije, gradijenta i Hesseove matrice. "
   ]
  },
  {
   "cell_type": "code",
   "execution_count": 13,
   "metadata": {
    "ExecuteTime": {
     "end_time": "2016-12-04T19:09:40.725412",
     "start_time": "2016-12-04T19:09:40.678169"
    },
    "collapsed": false,
    "run_control": {
     "frozen": false,
     "read_only": false
    }
   },
   "outputs": [
    {
     "name": "stdout",
     "output_type": "stream",
     "text": [
      "[ 3.99999965  2.00000005]\n",
      "grad 1311...28...0\n",
      "[ 4.  2.]\n",
      "nr 0...2...2\n",
      "[ 3.99999962  2.00000001]\n",
      "adam 0...317...0\n",
      "68\n",
      "[ 3.99999997  2.        ]\n",
      "nesterov 0...68...0\n"
     ]
    }
   ],
   "source": [
    "f2.resetCounter()\n",
    "print(gradDescent(f2, f2_0, line=True))\n",
    "print(\"grad\", f2.summary())\n",
    "\n",
    "f2.resetCounter()\n",
    "print(nr(f2, f2_0))\n",
    "print(\"nr\", f2.summary())\n",
    "\n",
    "f2.resetCounter()\n",
    "print(adam(f2, f2_0))\n",
    "print(\"adam\", f2.summary())\n",
    "\n",
    "f2.resetCounter()\n",
    "print(nesterov(f2, f2_0))\n",
    "print(\"nesterov\", f2.summary())"
   ]
  },
  {
   "cell_type": "code",
   "execution_count": 14,
   "metadata": {
    "ExecuteTime": {
     "end_time": "2016-12-04T19:09:44.435013",
     "start_time": "2016-12-04T19:09:40.844337"
    },
    "collapsed": false,
    "run_control": {
     "frozen": false,
     "read_only": false
    }
   },
   "outputs": [
    {
     "name": "stdout",
     "output_type": "stream",
     "text": [
      "max iter reached!!\n",
      "[ 1.00731734  1.01472246]\n",
      "grad 274911...5002...0\n",
      "[ 1.  1.]\n",
      "nr 0...6...6\n",
      "[ 1.00000096  1.00000192]\n",
      "adam 0...727...0\n"
     ]
    }
   ],
   "source": [
    "f1.resetCounter()\n",
    "print(gradDescent(f1, f1_0, line=True, maxIter=5000))\n",
    "print(\"grad\", f1.summary())\n",
    "\n",
    "f1.resetCounter()\n",
    "print(nr(f1, f1_0))\n",
    "print(\"nr\", f1.summary())\n",
    "\n",
    "f1.resetCounter()\n",
    "print(adam(f1, f1_0, eta=2, maxIter=5000))\n",
    "print(\"adam\", f1.summary())\n"
   ]
  },
  {
   "cell_type": "code",
   "execution_count": 15,
   "metadata": {
    "ExecuteTime": {
     "end_time": "2016-12-04T19:09:44.651362",
     "start_time": "2016-12-04T19:09:44.436587"
    },
    "collapsed": false,
    "run_control": {
     "frozen": false,
     "read_only": false
    }
   },
   "outputs": [
    {
     "name": "stdout",
     "output_type": "stream",
     "text": [
      "6185\n",
      "[ 0.99999888  0.99999776]\n",
      "nesterov 0...6185...0\n"
     ]
    }
   ],
   "source": [
    "f1.resetCounter()\n",
    "print(nesterov(f1, f1_0, eta=0.0005, maxIter=1e4))\n",
    "print(\"nesterov\", f1.summary())"
   ]
  },
  {
   "cell_type": "code",
   "execution_count": 59,
   "metadata": {
    "ExecuteTime": {
     "end_time": "2016-12-04T19:23:48.114766",
     "start_time": "2016-12-04T19:23:48.045144"
    },
    "collapsed": false,
    "run_control": {
     "frozen": false,
     "read_only": false
    }
   },
   "outputs": [
    {
     "data": {
      "text/plain": [
       "array([ 3.99999405,  2.00000139])"
      ]
     },
     "execution_count": 59,
     "metadata": {},
     "output_type": "execute_result"
    }
   ],
   "source": [
    "def box(f, x0, Xl, Xu, g, alpha=2, eps=1e-6):\n",
    "    x0 = np.array(x0)\n",
    "    Xc = x0\n",
    "    n = x0.shape[0]\n",
    "    X = np.random.uniform(Xl, Xu, size=[2*n, n])\n",
    "\n",
    "    for i in range(2*n):\n",
    "        while np.any(g(X[i]) < 0):\n",
    "            X[i] = 0.5 * (X[i] + Xc)\n",
    "    \n",
    "    while np.mean(np.linalg.norm(X - Xc, axis=0)) > eps:\n",
    "        y = np.array([f(x) for x in X])\n",
    "        hh = np.argsort(y)\n",
    "        h = hh[-1]\n",
    "        h2 = hh[-2]\n",
    "        Xc = np.mean(X[hh[:-1]], axis=0)\n",
    "\n",
    "        Xr = (1 + alpha)*Xc - alpha*X[h]\n",
    "        Xr = np.clip(Xr, Xl, Xu)\n",
    "#         print(hh, y, y[h], Xc, Xr)\n",
    "#         print(\"dd\")\n",
    "#         print(X, y, h, h2)\n",
    "        while np.any(g(Xr) < 0):\n",
    "            Xr = 0.5 * (Xr + Xc)\n",
    "        \n",
    "        while f(Xr) > y[h2]:\n",
    "            Xr = 0.5 * (Xr + Xc)\n",
    "\n",
    "        X[h] = Xr\n",
    "    return Xc\n",
    "\n",
    "box(f2, [50,50], 0, 10, lambda x : x)"
   ]
  },
  {
   "cell_type": "markdown",
   "metadata": {},
   "source": [
    "# 3\n",
    "\n",
    "Primijenite postupak po Boxu na funkcije 1 i 2 uz implicitna ograni č enja: (x2-x1 >= 0), (2-x1 >= 0) i\n",
    "eksplicitna ograni č enja prema kojima su sve varijable u intervalu [-100, 100]. Mijenja li se položaj\n",
    "optimuma uz nametnuta ograni č enja?"
   ]
  },
  {
   "cell_type": "code",
   "execution_count": 65,
   "metadata": {
    "ExecuteTime": {
     "end_time": "2016-12-04T19:35:02.763709",
     "start_time": "2016-12-04T19:35:02.746218"
    },
    "collapsed": false
   },
   "outputs": [
    {
     "data": {
      "text/plain": [
       "array([ 0.01020876,  0.01020876])"
      ]
     },
     "execution_count": 65,
     "metadata": {},
     "output_type": "execute_result"
    }
   ],
   "source": [
    "box(f1, f1_0, -100,100, lambda x:np.array([x[1] - x[0], 2 - x[0]]))"
   ]
  },
  {
   "cell_type": "code",
   "execution_count": 74,
   "metadata": {
    "ExecuteTime": {
     "end_time": "2016-12-04T19:35:19.656851",
     "start_time": "2016-12-04T19:35:19.622094"
    },
    "collapsed": false
   },
   "outputs": [
    {
     "data": {
      "text/plain": [
       "array([ 2.        ,  2.00000568])"
      ]
     },
     "execution_count": 74,
     "metadata": {},
     "output_type": "execute_result"
    }
   ],
   "source": [
    "box(f2, f2_0, -100,100, lambda x:np.array([x[1] - x[0], 2 - x[0]]))"
   ]
  },
  {
   "cell_type": "markdown",
   "metadata": {},
   "source": [
    "# 4\n",
    "\n",
    "Primijenite postupak transformacije u problem bez ograni č enja na funkcije 1 i 2 s ograni č enjima iz\n",
    "prethodnog zadatka (zanemarite eksplicitna ograni č enja). Novodobiveni problem optimizacije bez\n",
    "ograni č enja minimizirajte koriste ć i postupak Hooke-Jeeves ili postupak simpleksa po Nelderu i\n",
    "Meadu. Može li se korištenjem ovog postupka prona ć i optimalno rješenje problema s ograni č enjima?\n",
    "Ako ne, probajte odabrati po č etnu to č ku iz koje je mogu ć e prona ć i rješenje."
   ]
  },
  {
   "cell_type": "code",
   "execution_count": 201,
   "metadata": {
    "ExecuteTime": {
     "end_time": "2016-12-04T20:30:15.664610",
     "start_time": "2016-12-04T20:30:15.644761"
    },
    "collapsed": false
   },
   "outputs": [],
   "source": [
    "def optConstraints(f, x0, g, equ=lambda x: 0, t=1, eps=1e-6):\n",
    "    if np.any(g(x0) < 0) or True:\n",
    "        def sur_f(x):\n",
    "            return np.sum(np.square(np.maximum(0, -g(x))))\n",
    "            + np.sum(np.square(equ(x)))\n",
    "        res = minimize(sur_f, x0, method='Nelder-Mead')\n",
    "        if res['fun'] > eps:\n",
    "            print(res)\n",
    "            raise \"Cannot find interior point\" + str(res)\n",
    "        x0 = res['x']\n",
    "    \n",
    "    X = x0 \n",
    "    \n",
    "    while True:\n",
    "        def sur_f(x):\n",
    "#             print(x, g(x))\n",
    "            return f(x) + np.sum(np.where(g(x) > 0, -1/t * np.log(g(x)), np.inf)) \\\n",
    "                + t * np.sum(np.square(equ(x)))\n",
    "        res = minimize(sur_f, X, method='Nelder-Mead')\n",
    "        if np.linalg.norm(res['x'] - X) < eps:\n",
    "            return res['x']\n",
    "        else:\n",
    "            X = res['x']\n",
    "            t *= 10\n",
    "\n"
   ]
  },
  {
   "cell_type": "code",
   "execution_count": 202,
   "metadata": {
    "ExecuteTime": {
     "end_time": "2016-12-04T20:30:17.718999",
     "start_time": "2016-12-04T20:30:17.678660"
    },
    "collapsed": false
   },
   "outputs": [
    {
     "name": "stderr",
     "output_type": "stream",
     "text": [
      "/usr/lib/python3.5/site-packages/ipykernel/__main__.py:17: RuntimeWarning: invalid value encountered in log\n"
     ]
    },
    {
     "data": {
      "text/plain": [
       "array([ 0.01001697,  0.01001702])"
      ]
     },
     "execution_count": 202,
     "metadata": {},
     "output_type": "execute_result"
    }
   ],
   "source": [
    "optConstraints(f1, f1_0, lambda x:np.array([x[1] - x[0], 2 - x[0]]))"
   ]
  },
  {
   "cell_type": "code",
   "execution_count": 203,
   "metadata": {
    "ExecuteTime": {
     "end_time": "2016-12-04T20:30:20.713118",
     "start_time": "2016-12-04T20:30:20.673023"
    },
    "collapsed": false
   },
   "outputs": [
    {
     "name": "stderr",
     "output_type": "stream",
     "text": [
      "/usr/lib/python3.5/site-packages/ipykernel/__main__.py:17: RuntimeWarning: invalid value encountered in log\n"
     ]
    },
    {
     "data": {
      "text/plain": [
       "array([ 1.99999966,  2.00303409])"
      ]
     },
     "execution_count": 203,
     "metadata": {},
     "output_type": "execute_result"
    }
   ],
   "source": [
    "optConstraints(f2, f2_0, lambda x:np.array([x[1] - x[0], 2 - x[0]]))"
   ]
  },
  {
   "cell_type": "markdown",
   "metadata": {},
   "source": [
    "# 5\n",
    "\n",
    "Za funkciju 4 s ograničenjima (3-x1-x2>=0), (3+1.5*x1-x2>=0) i (x2-1=0) probajte pronaći\n",
    "minimum koristeći postupak transformacije u problem bez ograničenja (također koristite Hooke-\n",
    "Jeeves ili postupak simpleksa po Nelderu i Meadu za minimizaciju). Probajte kao početnu točku\n",
    "postaviti neku točku koja ne zadovoljava ograničenja nejednakosti (primjerice točku (5,5)) te\n",
    "pomoću postupka pronalaženja unutarnje točke odredite drugu točku koja zadovoljava ograničenja\n",
    "nejednakosti te ju iskoristite kao početnu točku za postupak minimizacije."
   ]
  },
  {
   "cell_type": "code",
   "execution_count": 204,
   "metadata": {
    "ExecuteTime": {
     "end_time": "2016-12-04T20:30:21.998700",
     "start_time": "2016-12-04T20:30:21.960330"
    },
    "collapsed": false
   },
   "outputs": [
    {
     "name": "stderr",
     "output_type": "stream",
     "text": [
      "/usr/lib/python3.5/site-packages/ipykernel/__main__.py:17: RuntimeWarning: invalid value encountered in log\n"
     ]
    },
    {
     "data": {
      "text/plain": [
       "array([ 1.99995572,  1.00000132])"
      ]
     },
     "execution_count": 204,
     "metadata": {},
     "output_type": "execute_result"
    }
   ],
   "source": [
    "optConstraints(\n",
    "    f4, \n",
    "    np.array([5,5]), \n",
    "    lambda x: np.array([\n",
    "            3 - x[0] - x[1], \n",
    "            3 + 1.5*x[0] - x[1],\n",
    "        ]),\n",
    "    lambda x: x[1] - 1\n",
    ")\n"
   ]
  }
 ],
 "metadata": {
  "kernelspec": {
   "display_name": "Python 3",
   "language": "python",
   "name": "python3"
  },
  "language_info": {
   "codemirror_mode": {
    "name": "ipython",
    "version": 3
   },
   "file_extension": ".py",
   "mimetype": "text/x-python",
   "name": "python",
   "nbconvert_exporter": "python",
   "pygments_lexer": "ipython3",
   "version": "3.5.2"
  }
 },
 "nbformat": 4,
 "nbformat_minor": 1
}
