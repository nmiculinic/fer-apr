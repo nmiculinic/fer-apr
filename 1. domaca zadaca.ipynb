{
 "cells": [
  {
   "cell_type": "code",
   "execution_count": 2,
   "metadata": {
    "ExecuteTime": {
     "end_time": "2016-10-27T14:57:02.370493",
     "start_time": "2016-10-27T14:57:02.366074"
    },
    "collapsed": true,
    "run_control": {
     "frozen": false,
     "read_only": false
    }
   },
   "outputs": [],
   "source": [
    "import numpy as np\n",
    "from scipy.linalg import lu"
   ]
  },
  {
   "cell_type": "code",
   "execution_count": 27,
   "metadata": {
    "ExecuteTime": {
     "end_time": "2016-10-27T16:10:31.723869",
     "start_time": "2016-10-27T16:10:31.680517"
    },
    "collapsed": false,
    "run_control": {
     "frozen": false,
     "read_only": false
    }
   },
   "outputs": [
    {
     "name": "stdout",
     "output_type": "stream",
     "text": [
      "LUP\n",
      " [[ 1.    0.    0.  ]\n",
      " [ 0.25  1.    0.  ]\n",
      " [ 0.75 -0.    1.  ]] \n",
      " [[  4.  12.  12.]\n",
      " [  0.  -4.  -2.]\n",
      " [  0.   0.  -3.]] \n",
      " [[ 0.  1.  0.]\n",
      " [ 0.  0.  1.]\n",
      " [ 1.  0.  0.]]\n",
      "pA\n",
      " [[  4.  12.  12.]\n",
      " [  1.  -1.   1.]\n",
      " [  3.   9.   6.]]\n",
      "LU\n",
      " [[  4.  12.  12.]\n",
      " [  1.  -1.   1.]\n",
      " [  3.   9.   6.]]\n",
      "True\n"
     ]
    }
   ],
   "source": [
    "tol = 1e-9\n",
    "\n",
    "def lup(matrix, p=True):\n",
    "    n = matrix.shape[0]\n",
    "    A = np.copy(matrix)\n",
    "    P = np.eye(n)\n",
    "    \n",
    "    for i in range(n):\n",
    "        pivot = i\n",
    "        if p:\n",
    "            for j in range(i + 1, n): # Trazenje najveceg elementa u stupsu\n",
    "                if np.abs(A[j, i]) > np.abs(A[pivot, i]):\n",
    "                    pivot = j\n",
    "            P[[i,pivot]]= P[[pivot, i]]\n",
    "            A[[i, pivot]] = A[[pivot, i]]\n",
    "        if np.abs(A[i,i]) < tol:\n",
    "            raise ValueError(\"Need to permutate\")\n",
    "\n",
    "        for j in range(i + 1, n):\n",
    "            A[j, i] /= A[i, i]\n",
    "#             for k in range(i + 1, n):\n",
    "            k = list(range(i + 1, n))\n",
    "            A[j, k] -= A[j, i] * A[i, k]\n",
    "    L = np.tril(A)\n",
    "    U = np.triu(A)\n",
    "    np.fill_diagonal(L, 1)\n",
    "    return L, U, P\n",
    "    \n",
    "# A = np.array([[1, 4, -3], [-2, 8, 5], [3, 4, 7]])\n",
    "A = np.array([[3, 9, 6], [4, 12, 12], [1, -1, 1]], dtype=np.float32)\n",
    "# A = np.random.randint(10, size=(5,5)).astype(np.float32)\n",
    "\n",
    "l, u, p = lup(A)\n",
    "print(\"LUP\\n\", l, \"\\n\", u, \"\\n\", p)\n",
    "print(\"pA\\n\", np.dot(p, A))\n",
    "print(\"LU\\n\", np.dot(l, u))\n",
    "print(np.allclose(np.dot(p, A), np.dot(l, u)))"
   ]
  },
  {
   "cell_type": "code",
   "execution_count": 4,
   "metadata": {
    "ExecuteTime": {
     "end_time": "2016-10-27T14:57:03.779595",
     "start_time": "2016-10-27T14:57:03.708651"
    },
    "collapsed": false,
    "run_control": {
     "frozen": false,
     "read_only": false
    }
   },
   "outputs": [
    {
     "data": {
      "text/plain": [
       "array([[ 2.],\n",
       "       [ 4.],\n",
       "       [ 5.]], dtype=float32)"
      ]
     },
     "execution_count": 4,
     "metadata": {},
     "output_type": "execute_result"
    }
   ],
   "source": [
    "def forwardsub(l, b):\n",
    "    \"\"\"\n",
    "        l -- lower triangular square matrix nxn\n",
    "        b -- matrix nx1\n",
    "        \n",
    "        Returns:\n",
    "        x -- nx1 vector corresponding to lx=b\n",
    "    \"\"\"\n",
    "    n = l.shape[0]\n",
    "    x = np.zeros([n], dtype=l.dtype)\n",
    "    for i in range(n):\n",
    "        bb = np.dot(x, l[i])\n",
    "        if np.abs(l[i,i]) < tol:\n",
    "            raise \"Divison by zero\"\n",
    "        x[i] = (b[i,0] - bb)/l[i,i]\n",
    "    return x.reshape(n, -1)\n",
    "\n",
    "x = forwardsub(l, np.array([[2,4,5.0]]).T)\n",
    "np.dot(l, x)"
   ]
  },
  {
   "cell_type": "code",
   "execution_count": 5,
   "metadata": {
    "ExecuteTime": {
     "end_time": "2016-10-27T14:57:04.508447",
     "start_time": "2016-10-27T14:57:04.467359"
    },
    "collapsed": false,
    "run_control": {
     "frozen": false,
     "read_only": false
    }
   },
   "outputs": [
    {
     "data": {
      "text/plain": [
       "array([[ 2.],\n",
       "       [ 4.],\n",
       "       [ 5.]], dtype=float32)"
      ]
     },
     "execution_count": 5,
     "metadata": {},
     "output_type": "execute_result"
    }
   ],
   "source": [
    "def backwardsub(u, b):\n",
    "    \"\"\"\n",
    "        u -- upper triangular square matrix nxn\n",
    "        b -- matrix nx1\n",
    "        \n",
    "        Returns:\n",
    "        x -- nx1 vector corresponding to lx=b\n",
    "    \"\"\"\n",
    "    n = l.shape[0]\n",
    "    x = np.zeros([n], dtype=u.dtype)\n",
    "    for i in range(n - 1, -1, -1):\n",
    "        bb = np.dot(x, u[i])\n",
    "        if np.abs(u[i,i]) < tol:\n",
    "            raise \"Divison by zero\"\n",
    "        x[i] = (b[i,0] - bb)/u[i,i]\n",
    "    return x.reshape(n, -1)\n",
    "\n",
    "x = backwardsub(u, np.array([[2,4,5]]).T)\n",
    "np.dot(u, x)"
   ]
  },
  {
   "cell_type": "markdown",
   "metadata": {},
   "source": [
    "# 1\n",
    "\n",
    "Kakve je implementirana u np.allclose ( http://docs.scipy.org/doc/numpy/reference/generated/numpy.allclose.html ) jer dolazi do numericke nestabilnosti buduci da nije moguce zapisivati float brojeve u beskonacnoj preciznosti. Tj. gledamo i/ili relativu i apsolutnu razliku\n",
    "\n",
    "# 2"
   ]
  },
  {
   "cell_type": "code",
   "execution_count": 16,
   "metadata": {
    "ExecuteTime": {
     "end_time": "2016-10-27T14:59:10.385479",
     "start_time": "2016-10-27T14:59:10.364216"
    },
    "collapsed": false,
    "run_control": {
     "frozen": false,
     "read_only": false
    }
   },
   "outputs": [
    {
     "name": "stdout",
     "output_type": "stream",
     "text": [
      "[[ 12.]\n",
      " [ 12.]\n",
      " [  1.]]\n",
      "True\n"
     ]
    }
   ],
   "source": [
    "A = np.array([[3, 9, 6], [4, 12, 12], [1, -1, 1.0]])\n",
    "b = np.array([[12,12,1.0]]).T\n",
    "\n",
    "l, u, p = lup(A)\n",
    "xp = forwardsub(l, np.dot(p, b))\n",
    "x = backwardsub(u, xp)\n",
    "\n",
    "print(np.dot(A, x))\n",
    "print(np.allclose(np.dot(A, x), b))"
   ]
  },
  {
   "cell_type": "markdown",
   "metadata": {},
   "source": [
    "# 3"
   ]
  },
  {
   "cell_type": "code",
   "execution_count": 28,
   "metadata": {
    "ExecuteTime": {
     "end_time": "2016-10-27T16:10:37.256914",
     "start_time": "2016-10-27T16:10:37.223751"
    },
    "collapsed": false,
    "run_control": {
     "frozen": false,
     "read_only": false
    }
   },
   "outputs": [
    {
     "ename": "ValueError",
     "evalue": "Need to permutate",
     "output_type": "error",
     "traceback": [
      "\u001b[0;31m---------------------------------------------------------------------------\u001b[0m",
      "\u001b[0;31mValueError\u001b[0m                                Traceback (most recent call last)",
      "\u001b[0;32m<ipython-input-28-ffeb6a020d6c>\u001b[0m in \u001b[0;36m<module>\u001b[0;34m()\u001b[0m\n\u001b[1;32m      1\u001b[0m \u001b[0mB\u001b[0m \u001b[0;34m=\u001b[0m \u001b[0mnp\u001b[0m\u001b[0;34m.\u001b[0m\u001b[0marray\u001b[0m\u001b[0;34m(\u001b[0m\u001b[0;34m[\u001b[0m\u001b[0;34m[\u001b[0m\u001b[0;36m1\u001b[0m\u001b[0;34m,\u001b[0m\u001b[0;36m2\u001b[0m\u001b[0;34m,\u001b[0m\u001b[0;36m3\u001b[0m\u001b[0;34m]\u001b[0m\u001b[0;34m,\u001b[0m\u001b[0;34m[\u001b[0m\u001b[0;36m4\u001b[0m\u001b[0;34m,\u001b[0m\u001b[0;36m5\u001b[0m\u001b[0;34m,\u001b[0m\u001b[0;36m6\u001b[0m\u001b[0;34m]\u001b[0m\u001b[0;34m,\u001b[0m\u001b[0;34m[\u001b[0m\u001b[0;36m7\u001b[0m\u001b[0;34m,\u001b[0m\u001b[0;36m8\u001b[0m\u001b[0;34m,\u001b[0m\u001b[0;36m9.0\u001b[0m\u001b[0;34m]\u001b[0m\u001b[0;34m]\u001b[0m\u001b[0;34m)\u001b[0m\u001b[0;34m\u001b[0m\u001b[0m\n\u001b[0;32m----> 2\u001b[0;31m \u001b[0ml\u001b[0m\u001b[0;34m,\u001b[0m \u001b[0mu\u001b[0m\u001b[0;34m,\u001b[0m \u001b[0mp\u001b[0m \u001b[0;34m=\u001b[0m \u001b[0mlup\u001b[0m\u001b[0;34m(\u001b[0m\u001b[0mB\u001b[0m\u001b[0;34m,\u001b[0m \u001b[0;32mTrue\u001b[0m\u001b[0;34m)\u001b[0m\u001b[0;34m\u001b[0m\u001b[0m\n\u001b[0m\u001b[1;32m      3\u001b[0m \u001b[0mprint\u001b[0m\u001b[0;34m(\u001b[0m\u001b[0mp\u001b[0m\u001b[0;34m)\u001b[0m\u001b[0;34m\u001b[0m\u001b[0m\n\u001b[1;32m      4\u001b[0m \u001b[0mprint\u001b[0m\u001b[0;34m(\u001b[0m\u001b[0mnp\u001b[0m\u001b[0;34m.\u001b[0m\u001b[0mdot\u001b[0m\u001b[0;34m(\u001b[0m\u001b[0ml\u001b[0m\u001b[0;34m,\u001b[0m \u001b[0mu\u001b[0m\u001b[0;34m)\u001b[0m\u001b[0;34m)\u001b[0m\u001b[0;34m\u001b[0m\u001b[0m\n\u001b[1;32m      5\u001b[0m \u001b[0mprint\u001b[0m\u001b[0;34m(\u001b[0m\u001b[0ml\u001b[0m\u001b[0;34m,\u001b[0m \u001b[0;34m\"\\n\"\u001b[0m\u001b[0;34m,\u001b[0m \u001b[0mu\u001b[0m\u001b[0;34m)\u001b[0m\u001b[0;34m\u001b[0m\u001b[0m\n",
      "\u001b[0;32m<ipython-input-27-6d61c36ef795>\u001b[0m in \u001b[0;36mlup\u001b[0;34m(matrix, p)\u001b[0m\n\u001b[1;32m     15\u001b[0m             \u001b[0mA\u001b[0m\u001b[0;34m[\u001b[0m\u001b[0;34m[\u001b[0m\u001b[0mi\u001b[0m\u001b[0;34m,\u001b[0m \u001b[0mpivot\u001b[0m\u001b[0;34m]\u001b[0m\u001b[0;34m]\u001b[0m \u001b[0;34m=\u001b[0m \u001b[0mA\u001b[0m\u001b[0;34m[\u001b[0m\u001b[0;34m[\u001b[0m\u001b[0mpivot\u001b[0m\u001b[0;34m,\u001b[0m \u001b[0mi\u001b[0m\u001b[0;34m]\u001b[0m\u001b[0;34m]\u001b[0m\u001b[0;34m\u001b[0m\u001b[0m\n\u001b[1;32m     16\u001b[0m         \u001b[0;32mif\u001b[0m \u001b[0mnp\u001b[0m\u001b[0;34m.\u001b[0m\u001b[0mabs\u001b[0m\u001b[0;34m(\u001b[0m\u001b[0mA\u001b[0m\u001b[0;34m[\u001b[0m\u001b[0mi\u001b[0m\u001b[0;34m,\u001b[0m\u001b[0mi\u001b[0m\u001b[0;34m]\u001b[0m\u001b[0;34m)\u001b[0m \u001b[0;34m<\u001b[0m \u001b[0mtol\u001b[0m\u001b[0;34m:\u001b[0m\u001b[0;34m\u001b[0m\u001b[0m\n\u001b[0;32m---> 17\u001b[0;31m             \u001b[0;32mraise\u001b[0m \u001b[0mValueError\u001b[0m\u001b[0;34m(\u001b[0m\u001b[0;34m\"Need to permutate\"\u001b[0m\u001b[0;34m)\u001b[0m\u001b[0;34m\u001b[0m\u001b[0m\n\u001b[0m\u001b[1;32m     18\u001b[0m \u001b[0;34m\u001b[0m\u001b[0m\n\u001b[1;32m     19\u001b[0m         \u001b[0;32mfor\u001b[0m \u001b[0mj\u001b[0m \u001b[0;32min\u001b[0m \u001b[0mrange\u001b[0m\u001b[0;34m(\u001b[0m\u001b[0mi\u001b[0m \u001b[0;34m+\u001b[0m \u001b[0;36m1\u001b[0m\u001b[0;34m,\u001b[0m \u001b[0mn\u001b[0m\u001b[0;34m)\u001b[0m\u001b[0;34m:\u001b[0m\u001b[0;34m\u001b[0m\u001b[0m\n",
      "\u001b[0;31mValueError\u001b[0m: Need to permutate"
     ]
    }
   ],
   "source": [
    "B = np.array([[1,2,3],[4,5,6],[7,8,9.0]])\n",
    "l, u, p = lup(B, True)\n",
    "print(p)\n",
    "print(np.dot(l, u))\n",
    "print(l, \"\\n\", u) \n",
    "# Matrica B je singularna jer det(U) == 0 te det(A) == 0"
   ]
  },
  {
   "cell_type": "markdown",
   "metadata": {
    "ExecuteTime": {
     "end_time": "2016-10-10T23:21:17.248931",
     "start_time": "2016-10-10T23:21:17.241515"
    }
   },
   "source": [
    "# 4 "
   ]
  },
  {
   "cell_type": "code",
   "execution_count": 8,
   "metadata": {
    "ExecuteTime": {
     "end_time": "2016-10-27T14:57:05.710919",
     "start_time": "2016-10-27T14:57:05.662314"
    },
    "collapsed": false,
    "run_control": {
     "frozen": false,
     "read_only": false
    }
   },
   "outputs": [
    {
     "name": "stdout",
     "output_type": "stream",
     "text": [
      "[[ 12000000.000001  ]\n",
      " [ 14000560.30184122]\n",
      " [ 10000736.7756374 ]]\n",
      "False\n"
     ]
    }
   ],
   "source": [
    "A = np.array([\n",
    "        [0.000001, 3000000, 2000000], \n",
    "        [1000000, 2000000, 3000000], \n",
    "        [2000000, 1000000, 2000000]])\n",
    "b = np.array([[12000000.000001, 14000000, 10000000]]).T\n",
    "\n",
    "\n",
    "l, u, p = lup(A, False)\n",
    "xp = forwardsub(l, np.dot(p, b))\n",
    "x = backwardsub(u, xp)\n",
    "\n",
    "# LUP je numericki stabilnije \n",
    "# rjesenje jer izbjegava djeljenje s malim brojevima\n",
    "# dok LU to ne radi (nema pivotiranja)\n",
    "\n",
    "print(np.dot(A, x)) # 32bitni float diskrepancija\n",
    "print(np.allclose(np.dot(A, x), b))"
   ]
  },
  {
   "cell_type": "code",
   "execution_count": 9,
   "metadata": {
    "ExecuteTime": {
     "end_time": "2016-10-27T14:57:05.856765",
     "start_time": "2016-10-27T14:57:05.830971"
    },
    "collapsed": false,
    "run_control": {
     "frozen": false,
     "read_only": false
    }
   },
   "outputs": [
    {
     "name": "stdout",
     "output_type": "stream",
     "text": [
      "[[ 12000000.0]\n",
      " [ 14000000.0]\n",
      " [ 10000000.0]]\n",
      "True\n"
     ]
    }
   ],
   "source": [
    "A = np.array([\n",
    "        [0.000001, 3000000, 2000000], \n",
    "        [1000000, 2000000, 3000000], \n",
    "        [2000000, 1000000, 2000000]], dtype=np.float128)\n",
    "b = np.array([[12000000.000001, 14000000, 10000000]], dtype=np.float128).T\n",
    "\n",
    "\n",
    "l, u, p = lup(A)\n",
    "xp = forwardsub(l, np.dot(p, b))\n",
    "x = backwardsub(u, xp)\n",
    "\n",
    "print(np.dot(A, x)) # 128bitni float diskrepancija.. svejedno\n",
    "print(np.allclose(np.dot(A, x), b))"
   ]
  },
  {
   "cell_type": "markdown",
   "metadata": {},
   "source": [
    "# 5"
   ]
  },
  {
   "cell_type": "code",
   "execution_count": 23,
   "metadata": {
    "ExecuteTime": {
     "end_time": "2016-10-27T15:31:45.431706",
     "start_time": "2016-10-27T15:31:45.391929"
    },
    "collapsed": false,
    "run_control": {
     "frozen": false,
     "read_only": false
    }
   },
   "outputs": [
    {
     "name": "stdout",
     "output_type": "stream",
     "text": [
      "[[ -1.03620816e-15]\n",
      " [  5.32907052e-16]\n",
      " [  3.00000000e+00]]\n",
      "[[ 0.  0.  1.]\n",
      " [ 0.  1.  0.]\n",
      " [ 1.  0.  0.]]\n",
      "[[ 6.]\n",
      " [ 9.]\n",
      " [ 3.]]\n",
      "True\n"
     ]
    }
   ],
   "source": [
    "A = np.array([\n",
    "        [0, 1, 2.0], \n",
    "        [2, 0, 3], \n",
    "        [3, 5, 1]])\n",
    "b = np.array([[6, 9, 3]]).T\n",
    "\n",
    "\n",
    "l, u, p = lup(A, True)\n",
    "xp = forwardsub(l, np.dot(p, b))\n",
    "x = backwardsub(u, xp)\n",
    "\n",
    "print(x)\n",
    "\n",
    "print(p) # permutacija je koristena\n",
    "\n",
    "print(np.dot(A, x)) \n",
    "\n",
    "# Rjesenje mi izgleda prilicno ok, vjerojatno ima neke sitne \n",
    "# greske an ko zna kojem decimalnom mjestu\n",
    "print(np.allclose(np.dot(A, x), b))"
   ]
  },
  {
   "cell_type": "markdown",
   "metadata": {
    "ExecuteTime": {
     "end_time": "2016-10-11T00:54:36.170632",
     "start_time": "2016-10-11T00:54:36.162869"
    }
   },
   "source": [
    "# 6\n",
    "\n",
    "Rješavanje sljedećeg sustava moglo bi zadati problema vašoj implementaciji. O čemu to ovisi? \n",
    "\n",
    "Jer imamo jako velike i jako malene brojeve, sto mogu uzrokovati probleme"
   ]
  },
  {
   "cell_type": "code",
   "execution_count": 30,
   "metadata": {
    "ExecuteTime": {
     "end_time": "2016-10-27T16:11:31.904982",
     "start_time": "2016-10-27T16:11:31.868978"
    },
    "collapsed": false,
    "run_control": {
     "frozen": false,
     "read_only": false
    }
   },
   "outputs": [
    {
     "name": "stdout",
     "output_type": "stream",
     "text": [
      "[[ 1.]\n",
      " [ 2.]\n",
      " [ 1.]]\n",
      "[[ 1.  0.  0.]\n",
      " [ 0.  1.  0.]\n",
      " [ 0.  0.  1.]]\n",
      "[[  9.]\n",
      " [ 15.]\n",
      " [  3.]]\n",
      "True\n"
     ]
    }
   ],
   "source": [
    "A = np.array([\n",
    "        [4000000000, 1000000000, 3000000000], \n",
    "        [4, 2, 7], \n",
    "        [0.0000000003, 0.0000000005, 0.0000000002]])\n",
    "b = np.array([[9000000000, 15, 0.0000000015]]).T\n",
    "\n",
    "# Izbjegavanje velikih raspona brojeva\n",
    "Trans = np.diag([1/1000000000, 1, 1/0.0000000005])\n",
    "A = np.dot(Trans, A)\n",
    "b = np.dot(Trans, b)\n",
    "\n",
    "l, u, p = lup(A, False)\n",
    "xp = forwardsub(l, np.dot(p, b))\n",
    "x = backwardsub(u, xp)\n",
    "\n",
    "print(x)\n",
    "\n",
    "print(p) # permutacija je koristena\n",
    "\n",
    "print(np.dot(A, x)) \n",
    "print(np.allclose(np.dot(A, x), b, rtol=0, atol=1e-6))"
   ]
  },
  {
   "cell_type": "code",
   "execution_count": null,
   "metadata": {
    "collapsed": true,
    "run_control": {
     "frozen": false,
     "read_only": false
    }
   },
   "outputs": [],
   "source": []
  }
 ],
 "metadata": {
  "kernelspec": {
   "display_name": "Python 3",
   "language": "python",
   "name": "python3"
  },
  "language_info": {
   "codemirror_mode": {
    "name": "ipython",
    "version": 3
   },
   "file_extension": ".py",
   "mimetype": "text/x-python",
   "name": "python",
   "nbconvert_exporter": "python",
   "pygments_lexer": "ipython3",
   "version": "3.5.2"
  }
 },
 "nbformat": 4,
 "nbformat_minor": 0
}
