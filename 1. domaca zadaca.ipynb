{
 "cells": [
  {
   "cell_type": "code",
   "execution_count": 1,
   "metadata": {
    "ExecuteTime": {
     "end_time": "2016-10-10T23:20:25.153350",
     "start_time": "2016-10-10T23:20:25.136366"
    },
    "collapsed": true
   },
   "outputs": [],
   "source": [
    "import numpy as np\n",
    "from scipy.linalg import lu"
   ]
  },
  {
   "cell_type": "code",
   "execution_count": 440,
   "metadata": {
    "ExecuteTime": {
     "end_time": "2016-10-11T00:47:24.962305",
     "start_time": "2016-10-11T00:47:24.874101"
    },
    "collapsed": false,
    "run_control": {
     "frozen": false,
     "read_only": false
    }
   },
   "outputs": [
    {
     "name": "stdout",
     "output_type": "stream",
     "text": [
      "[[  3.   9.   6.]\n",
      " [  4.  12.  12.]\n",
      " [  1.  -1.   1.]]\n",
      "lu\n",
      " [[ 1.          0.          0.        ]\n",
      " [ 0.33333334  1.          0.        ]\n",
      " [ 1.33333337 -0.          1.        ]] \n",
      " [[ 3.  9.  6.]\n",
      " [ 0. -4. -1.]\n",
      " [ 0.  0.  4.]] p\n",
      " [[ 1.  0.  0.]\n",
      " [ 0.  0.  1.]\n",
      " [ 0.  1.  0.]]\n"
     ]
    },
    {
     "data": {
      "text/plain": [
       "array([[  3.,   9.,   6.],\n",
       "       [  4.,  12.,  12.],\n",
       "       [  1.,  -1.,   1.]], dtype=float32)"
      ]
     },
     "execution_count": 440,
     "metadata": {},
     "output_type": "execute_result"
    }
   ],
   "source": [
    "tol = 1e-9\n",
    "\n",
    "def lup(matrix):\n",
    "    assert matrix.shape[0] == matrix.shape[1]\n",
    "    n = matrix.shape[0]\n",
    "    L = np.eye(n, dtype=matrix.dtype)\n",
    "    U = np.copy(matrix)\n",
    "    P = np.eye(n, dtype=matrix.dtype)\n",
    "    for i in range(n):\n",
    "        if np.abs(U[i,i]) < tol:\n",
    "            for k in range(i + 1, n):\n",
    "                if np.abs(U[k, i]) > tol:\n",
    "                    U[[i,k]] = U[[k, i]]\n",
    "                    L[[i,k]] = L[[k, i]]\n",
    "                    L[:, [i,k]] = L[:, [k,i]]\n",
    "                    P[[i,k]] = P[[k, i]]\n",
    "                    break\n",
    "\n",
    "        for j in range(i + 1, n):\n",
    "            coef = U[j,i]/U[i,i]\n",
    "            U[j, :] -= coef * U[i, :]\n",
    "            L[j, i] = coef\n",
    "    return L, U, P\n",
    "\n",
    "# A = np.array([[1, 4, -3], [-2, 8, 5], [3, 4, 7]])\n",
    "A = np.array([[3, 9, 6], [4, 12, 12], [1, -1, 1]], dtype=np.float32)\n",
    "\n",
    "# A = np.random.randint(100, size=[5,5])\n",
    "# A[3] = A[4]\n",
    "\n",
    "print(A)\n",
    "l, u, p = lup(A)\n",
    "print(\"lu\\n\", l, \"\\n\", u, \"p\\n\", p)\n",
    "np.dot(p.T, np.dot(l, u))"
   ]
  },
  {
   "cell_type": "code",
   "execution_count": 460,
   "metadata": {
    "ExecuteTime": {
     "end_time": "2016-10-11T00:47:52.705474",
     "start_time": "2016-10-11T00:47:52.684498"
    },
    "collapsed": false
   },
   "outputs": [
    {
     "data": {
      "text/plain": [
       "array([[ 2.],\n",
       "       [ 4.],\n",
       "       [ 5.]], dtype=float32)"
      ]
     },
     "execution_count": 460,
     "metadata": {},
     "output_type": "execute_result"
    }
   ],
   "source": [
    "def forwardsub(l, b):\n",
    "    \"\"\"\n",
    "        l -- lower triangular square matrix nxn\n",
    "        b -- matrix nx1\n",
    "        \n",
    "        Returns:\n",
    "        x -- nx1 vector corresponding to lx=b\n",
    "    \"\"\"\n",
    "    n = l.shape[0]\n",
    "    x = np.zeros([n], dtype=l.dtype)\n",
    "    for i in range(n):\n",
    "        bb = np.dot(x, l[i])\n",
    "        if np.abs(l[i,i]) < tol:\n",
    "            raise \"Divison by zero\"\n",
    "        x[i] = (b[i,0] - bb)/l[i,i]\n",
    "    return x.reshape(n, -1)\n",
    "\n",
    "x = forwardsub(l, np.array([[2,4,5.0]]).T)\n",
    "np.dot(l, x)"
   ]
  },
  {
   "cell_type": "code",
   "execution_count": 471,
   "metadata": {
    "ExecuteTime": {
     "end_time": "2016-10-11T00:48:08.062424",
     "start_time": "2016-10-11T00:48:08.041138"
    },
    "collapsed": false
   },
   "outputs": [
    {
     "data": {
      "text/plain": [
       "array([[ 2.],\n",
       "       [ 4.],\n",
       "       [ 5.]], dtype=float32)"
      ]
     },
     "execution_count": 471,
     "metadata": {},
     "output_type": "execute_result"
    }
   ],
   "source": [
    "def backwardsub(u, b):\n",
    "    \"\"\"\n",
    "        u -- upper triangular square matrix nxn\n",
    "        b -- matrix nx1\n",
    "        \n",
    "        Returns:\n",
    "        x -- nx1 vector corresponding to lx=b\n",
    "    \"\"\"\n",
    "    n = l.shape[0]\n",
    "    x = np.zeros([n], dtype=u.dtype)\n",
    "    for i in range(n - 1, -1, -1):\n",
    "        bb = np.dot(x, u[i])\n",
    "        if np.abs(u[i,i]) < tol:\n",
    "            raise \"Divison by zero\"\n",
    "        x[i] = (b[i,0] - bb)/u[i,i]\n",
    "    return x.reshape(n, -1)\n",
    "\n",
    "x = backwardsub(u, np.array([[2,4,5]]).T)\n",
    "np.dot(u, x)"
   ]
  },
  {
   "cell_type": "markdown",
   "metadata": {},
   "source": [
    "# 1\n",
    "\n",
    "Kakve je implementirana u np.allclose ( http://docs.scipy.org/doc/numpy/reference/generated/numpy.allclose.html ) jer dolazi do numericke nestabilnosti buduci da nije moguce zapisivati float brojeve u beskonacnoj preciznosti. Tj. gledamo i/ili relativu i apsolutnu razliku\n",
    "\n",
    "# 2"
   ]
  },
  {
   "cell_type": "code",
   "execution_count": 493,
   "metadata": {
    "ExecuteTime": {
     "end_time": "2016-10-11T00:58:35.572270",
     "start_time": "2016-10-11T00:58:35.551034"
    },
    "collapsed": false
   },
   "outputs": [
    {
     "name": "stdout",
     "output_type": "stream",
     "text": [
      "[[ 12.]\n",
      " [ 12.]\n",
      " [  1.]]\n",
      "True\n"
     ]
    }
   ],
   "source": [
    "A = np.array([[3, 9, 6], [4, 12, 12], [1, -1, 1.0]])\n",
    "b = np.array([[12,12,1.0]]).T\n",
    "\n",
    "l, u, p = lup(A)\n",
    "xp = forwardsub(l, np.dot(p, b))\n",
    "x = backwardsub(u, xp)\n",
    "\n",
    "print(np.dot(A, x))\n",
    "print(np.allclose(np.dot(A, x), b))"
   ]
  },
  {
   "cell_type": "markdown",
   "metadata": {},
   "source": [
    "# 3"
   ]
  },
  {
   "cell_type": "code",
   "execution_count": 476,
   "metadata": {
    "ExecuteTime": {
     "end_time": "2016-10-11T00:48:31.571448",
     "start_time": "2016-10-11T00:48:31.556072"
    },
    "collapsed": false
   },
   "outputs": [
    {
     "name": "stdout",
     "output_type": "stream",
     "text": [
      "[[ 1.  0.  0.]\n",
      " [ 0.  1.  0.]\n",
      " [ 0.  0.  1.]]\n",
      "[[ 1.  2.  3.]\n",
      " [ 4.  5.  6.]\n",
      " [ 7.  8.  9.]]\n",
      "[[ 1.  0.  0.]\n",
      " [ 4.  1.  0.]\n",
      " [ 7.  2.  1.]] \n",
      " [[ 1.  2.  3.]\n",
      " [ 0. -3. -6.]\n",
      " [ 0.  0.  0.]]\n"
     ]
    }
   ],
   "source": [
    "B = np.array([[1,2,3],[4,5,6],[7,8,9.0]])\n",
    "l, u, p = lup(B)\n",
    "print(p)\n",
    "print(np.dot(l, u))\n",
    "print(l, \"\\n\", u) \n",
    "# Matrica B je singularna jer det(U) == 0 te det(A) == 0"
   ]
  },
  {
   "cell_type": "markdown",
   "metadata": {
    "ExecuteTime": {
     "end_time": "2016-10-10T23:21:17.248931",
     "start_time": "2016-10-10T23:21:17.241515"
    }
   },
   "source": [
    "# 4 "
   ]
  },
  {
   "cell_type": "code",
   "execution_count": 494,
   "metadata": {
    "ExecuteTime": {
     "end_time": "2016-10-11T00:58:43.792517",
     "start_time": "2016-10-11T00:58:43.772372"
    },
    "collapsed": false
   },
   "outputs": [
    {
     "name": "stdout",
     "output_type": "stream",
     "text": [
      "[[ 12000000.000001  ]\n",
      " [ 14000560.30184122]\n",
      " [ 10000736.7756374 ]]\n",
      "False\n"
     ]
    }
   ],
   "source": [
    "A = np.array([\n",
    "        [0.000001, 3000000, 2000000], \n",
    "        [1000000, 2000000, 3000000], \n",
    "        [2000000, 1000000, 2000000]])\n",
    "b = np.array([[12000000.000001, 14000000, 10000000]]).T\n",
    "\n",
    "\n",
    "l, u, p = lup(A)\n",
    "xp = forwardsub(l, np.dot(p, b))\n",
    "x = backwardsub(u, xp)\n",
    "\n",
    "print(np.dot(A, x)) # 32bitni float diskrepancija\n",
    "print(np.allclose(np.dot(A, x), b))"
   ]
  },
  {
   "cell_type": "code",
   "execution_count": 495,
   "metadata": {
    "ExecuteTime": {
     "end_time": "2016-10-11T00:58:48.502171",
     "start_time": "2016-10-11T00:58:48.478121"
    },
    "collapsed": false
   },
   "outputs": [
    {
     "name": "stdout",
     "output_type": "stream",
     "text": [
      "[[ 12000000.0]\n",
      " [ 14000000.0]\n",
      " [ 10000001.0]]\n",
      "True\n"
     ]
    }
   ],
   "source": [
    "A = np.array([\n",
    "        [0.000001, 3000000, 2000000], \n",
    "        [1000000, 2000000, 3000000], \n",
    "        [2000000, 1000000, 2000000]], dtype=np.float128)\n",
    "b = np.array([[12000000.000001, 14000000, 10000000]], dtype=np.float128).T\n",
    "\n",
    "\n",
    "l, u, p = lup(A)\n",
    "xp = forwardsub(l, np.dot(p, b))\n",
    "x = backwardsub(u, xp)\n",
    "\n",
    "print(np.dot(A, x)) # 128bitni float diskrepancija.. svejedno\n",
    "print(np.allclose(np.dot(A, x), b))"
   ]
  },
  {
   "cell_type": "markdown",
   "metadata": {},
   "source": [
    "# 5"
   ]
  },
  {
   "cell_type": "code",
   "execution_count": 496,
   "metadata": {
    "ExecuteTime": {
     "end_time": "2016-10-11T00:58:59.844032",
     "start_time": "2016-10-11T00:58:59.816042"
    },
    "collapsed": false
   },
   "outputs": [
    {
     "name": "stdout",
     "output_type": "stream",
     "text": [
      "[[ 0.]\n",
      " [ 0.]\n",
      " [ 3.]]\n",
      "[[ 0.  1.  0.]\n",
      " [ 1.  0.  0.]\n",
      " [ 0.  0.  1.]]\n",
      "[[ 6.]\n",
      " [ 9.]\n",
      " [ 3.]]\n",
      "True\n"
     ]
    }
   ],
   "source": [
    "A = np.array([\n",
    "        [0, 1, 2.0], \n",
    "        [2, 0, 3], \n",
    "        [3, 5, 1]])\n",
    "b = np.array([[6, 9, 3]]).T\n",
    "\n",
    "\n",
    "l, u, p = lup(A)\n",
    "xp = forwardsub(l, np.dot(p, b))\n",
    "x = backwardsub(u, xp)\n",
    "\n",
    "print(x)\n",
    "\n",
    "print(p) # permutacija je koristena\n",
    "\n",
    "print(np.dot(A, x)) \n",
    "\n",
    "# Rjesenje mi izgleda prilicno ok, vjerojatno ima neke sitne \n",
    "# greske an ko zna kojem decimalnom mjestu\n",
    "print(np.allclose(np.dot(A, x), b))"
   ]
  },
  {
   "cell_type": "markdown",
   "metadata": {
    "ExecuteTime": {
     "end_time": "2016-10-11T00:54:36.170632",
     "start_time": "2016-10-11T00:54:36.162869"
    }
   },
   "source": [
    "# 6\n",
    "\n",
    "Rješavanje sljedećeg sustava moglo bi zadati problema vašoj implementaciji. O čemu to ovisi? \n",
    "\n",
    "Jer imamo jako velike i jako malene brojeve, sto mogu uzrokovati probleme"
   ]
  },
  {
   "cell_type": "code",
   "execution_count": 497,
   "metadata": {
    "ExecuteTime": {
     "end_time": "2016-10-11T00:59:05.504798",
     "start_time": "2016-10-11T00:59:05.470714"
    },
    "collapsed": false
   },
   "outputs": [
    {
     "name": "stdout",
     "output_type": "stream",
     "text": [
      "[[ 1.]\n",
      " [ 2.]\n",
      " [ 1.]]\n",
      "[[ 1.  0.  0.]\n",
      " [ 0.  1.  0.]\n",
      " [ 0.  0.  1.]]\n",
      "[[  9.]\n",
      " [ 15.]\n",
      " [  3.]]\n",
      "True\n"
     ]
    }
   ],
   "source": [
    "A = np.array([\n",
    "        [4000000000, 1000000000, 3000000000], \n",
    "        [4, 2, 7], \n",
    "        [0.0000000003, 0.0000000005, 0.0000000002]])\n",
    "b = np.array([[9000000000, 15, 0.0000000015]]).T\n",
    "\n",
    "# Izbjegavanje velikih raspona brojeva\n",
    "Trans = np.diag([1/1000000000, 1, 1/0.0000000005])\n",
    "A = np.dot(Trans, A)\n",
    "b = np.dot(Trans, b)\n",
    "\n",
    "l, u, p = lup(A)\n",
    "xp = forwardsub(l, np.dot(p, b))\n",
    "x = backwardsub(u, xp)\n",
    "\n",
    "print(x)\n",
    "\n",
    "print(p) # permutacija je koristena\n",
    "\n",
    "print(np.dot(A, x)) \n",
    "print(np.allclose(np.dot(A, x), b))"
   ]
  }
 ],
 "metadata": {
  "kernelspec": {
   "display_name": "Python 3",
   "language": "python",
   "name": "python3"
  },
  "language_info": {
   "codemirror_mode": {
    "name": "ipython",
    "version": 3
   },
   "file_extension": ".py",
   "mimetype": "text/x-python",
   "name": "python",
   "nbconvert_exporter": "python",
   "pygments_lexer": "ipython3",
   "version": "3.5.2"
  }
 },
 "nbformat": 4,
 "nbformat_minor": 0
}
